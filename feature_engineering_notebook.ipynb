{
 "cells": [
  {
   "cell_type": "code",
   "execution_count": 135,
   "metadata": {
    "collapsed": true
   },
   "outputs": [],
   "source": [
    "import requests\n",
    "import time\n"
   ]
  },
  {
   "cell_type": "code",
   "execution_count": 154,
   "metadata": {
    "collapsed": true
   },
   "outputs": [],
   "source": [
    "EAP_start = 1827\n",
    "EAP_end = 1849\n",
    "EAP_major_works = [1831, 1839, 1843, 1845, 1846, 1849]\n",
    "HPL_start = 1910\n",
    "HPL_end = 1943\n",
    "HPL_major_works = [1928, 1936, 1943]\n",
    "MWS_start = 1818\n",
    "MWS_end = 1837\n",
    "MWS_major_works = [1818, 1823, 1826, 1830, 1835, 1837]"
   ]
  },
  {
   "cell_type": "code",
   "execution_count": 153,
   "metadata": {
    "collapsed": true
   },
   "outputs": [],
   "source": [
    "ngram_data_regex = re.compile(r'imeseries\\\": \\[(\\d|\\.|\\s|,|e|-)*\\]')"
   ]
  },
  {
   "cell_type": "code",
   "execution_count": 155,
   "metadata": {
    "collapsed": true
   },
   "outputs": [],
   "source": [
    "def get_ngram_frequency_from_request(request, regex):\n",
    "    results = []\n",
    "    frequencies = regex.search(request.text).group()\n",
    "    frequencies = frequencies[13:-1]\n",
    "    frequencies = frequencies.split(\", \")\n",
    "    frequencies = [float(f) for f in frequencies]\n",
    "    results.append(np.mean([f for f in frequencies[EAP_start-1818:EAP_end-1818] if f>0]))\n",
    "    results.append(np.mean([f for f in frequencies[HPL_start-1818:HPL_end-1818] if f>0]))\n",
    "    results.append(np.mean([f for f in frequencies[MWS_start-1818:MWS_end-1818] if f>0]))\n",
    "    return results"
   ]
  },
  {
   "cell_type": "code",
   "execution_count": 162,
   "metadata": {
    "collapsed": false
   },
   "outputs": [],
   "source": [
    "token_list = []\n",
    "stopWords = set(stopwords.words('english'))\n",
    "for sentence in df.text:\n",
    "    tokens = tokenize.word_tokenize(sentence)\n",
    "    tokens = [t for t in tokens if len(t)>1 and t not in stopWords]\n",
    "    token_list.append(tokens)"
   ]
  },
  {
   "cell_type": "code",
   "execution_count": 163,
   "metadata": {
    "collapsed": true
   },
   "outputs": [],
   "source": [
    "lexicon = set()\n",
    "for sentence in token_list:\n",
    "    lexicon.update(sentence)"
   ]
  },
  {
   "cell_type": "code",
   "execution_count": 164,
   "metadata": {
    "collapsed": false
   },
   "outputs": [
    {
     "data": {
      "text/plain": [
       "27575"
      ]
     },
     "execution_count": 164,
     "metadata": {},
     "output_type": "execute_result"
    }
   ],
   "source": [
    "len(lexicon)"
   ]
  },
  {
   "cell_type": "code",
   "execution_count": 180,
   "metadata": {
    "collapsed": false
   },
   "outputs": [],
   "source": [
    "def get_lexicon_frequencies(lexicon):\n",
    "    lexicon_frequencies = []\n",
    "    error_counter = 0\n",
    "    sleep_time = 1\n",
    "    BASEURL = \"https://books.google.com/ngrams/graph?content={}&year_start=1818&year_end=1943&corpus=16&smoothing=0\"\n",
    "    for n, word in enumerate(lexicon):\n",
    "        if n%1378 == 1:\n",
    "            print(\"{}% done!\".format(round(len(lexicon)/n), 2))\n",
    "        if error_counter > 8:\n",
    "            print(\"too many errors. Sleep time = {}\".format(sleep_time))\n",
    "            break\n",
    "        request = requests.get(BASEURL.format(word))\n",
    "        if request.status_code != 200:\n",
    "            error_counter += 1\n",
    "            time.sleep(sleep_time)\n",
    "            request = requests.get(BASEURL.format(word))\n",
    "            if request.status_code != 200:\n",
    "                error_counter += 1\n",
    "                print(\"two consecutive errors\")\n",
    "                print(request.status_code, request.text)\n",
    "                time.sleep(300)\n",
    "                sleep_time *= 2\n",
    "        ngram_frequencies = get_ngram_frequency_from_request(request, ngram_data_regex)\n",
    "        lexicon_frequencies.append((word, ngram_frequencies))\n",
    "        time.sleep(sleep_time)\n",
    "    return lexicon_frequencies"
   ]
  },
  {
   "cell_type": "code",
   "execution_count": 182,
   "metadata": {
    "collapsed": false
   },
   "outputs": [
    {
     "data": {
      "text/plain": [
       "22"
      ]
     },
     "execution_count": 182,
     "metadata": {},
     "output_type": "execute_result"
    }
   ],
   "source": [
    "len(lexicon_frequencies)"
   ]
  },
  {
   "cell_type": "code",
   "execution_count": 181,
   "metadata": {
    "collapsed": false
   },
   "outputs": [
    {
     "name": "stdout",
     "output_type": "stream",
     "text": [
      "two consecutive errors\n",
      "429 Please try again later.\n"
     ]
    },
    {
     "ename": "AttributeError",
     "evalue": "'NoneType' object has no attribute 'group'",
     "output_type": "error",
     "traceback": [
      "\u001b[1;31m---------------------------------------------------------------------------\u001b[0m",
      "\u001b[1;31mAttributeError\u001b[0m                            Traceback (most recent call last)",
      "\u001b[1;32m<ipython-input-181-13e7da566d0b>\u001b[0m in \u001b[0;36m<module>\u001b[1;34m()\u001b[0m\n\u001b[1;32m----> 1\u001b[1;33m \u001b[0mlexicon_frequencies\u001b[0m \u001b[1;33m=\u001b[0m \u001b[0mget_lexicon_frequencies\u001b[0m\u001b[1;33m(\u001b[0m\u001b[0mlexicon\u001b[0m\u001b[1;33m)\u001b[0m\u001b[1;33m\u001b[0m\u001b[0m\n\u001b[0m\u001b[0;32m      2\u001b[0m \u001b[0mpd\u001b[0m\u001b[1;33m.\u001b[0m\u001b[0mDataFrame\u001b[0m\u001b[1;33m(\u001b[0m\u001b[0mlexicon_frequencies\u001b[0m\u001b[1;33m)\u001b[0m\u001b[1;33m.\u001b[0m\u001b[0mto_csv\u001b[0m\u001b[1;33m(\u001b[0m\u001b[1;34m'lexicon_frequencies.csv'\u001b[0m\u001b[1;33m)\u001b[0m\u001b[1;33m\u001b[0m\u001b[0m\n",
      "\u001b[1;32m<ipython-input-180-e02f1ab42d64>\u001b[0m in \u001b[0;36mget_lexicon_frequencies\u001b[1;34m(lexicon)\u001b[0m\n\u001b[0;32m     21\u001b[0m                 \u001b[0mtime\u001b[0m\u001b[1;33m.\u001b[0m\u001b[0msleep\u001b[0m\u001b[1;33m(\u001b[0m\u001b[1;36m30\u001b[0m\u001b[1;33m)\u001b[0m\u001b[1;33m\u001b[0m\u001b[0m\n\u001b[0;32m     22\u001b[0m                 \u001b[0msleep_time\u001b[0m \u001b[1;33m*=\u001b[0m \u001b[1;36m2\u001b[0m\u001b[1;33m\u001b[0m\u001b[0m\n\u001b[1;32m---> 23\u001b[1;33m         \u001b[0mngram_frequencies\u001b[0m \u001b[1;33m=\u001b[0m \u001b[0mget_ngram_frequency_from_request\u001b[0m\u001b[1;33m(\u001b[0m\u001b[0mrequest\u001b[0m\u001b[1;33m,\u001b[0m \u001b[0mngram_data_regex\u001b[0m\u001b[1;33m)\u001b[0m\u001b[1;33m\u001b[0m\u001b[0m\n\u001b[0m\u001b[0;32m     24\u001b[0m         \u001b[0mlexicon_frequencies\u001b[0m\u001b[1;33m.\u001b[0m\u001b[0mappend\u001b[0m\u001b[1;33m(\u001b[0m\u001b[1;33m(\u001b[0m\u001b[0mword\u001b[0m\u001b[1;33m,\u001b[0m \u001b[0mngram_frequencies\u001b[0m\u001b[1;33m)\u001b[0m\u001b[1;33m)\u001b[0m\u001b[1;33m\u001b[0m\u001b[0m\n\u001b[0;32m     25\u001b[0m         \u001b[0mtime\u001b[0m\u001b[1;33m.\u001b[0m\u001b[0msleep\u001b[0m\u001b[1;33m(\u001b[0m\u001b[0msleep_time\u001b[0m\u001b[1;33m)\u001b[0m\u001b[1;33m\u001b[0m\u001b[0m\n",
      "\u001b[1;32m<ipython-input-155-9913d70935bc>\u001b[0m in \u001b[0;36mget_ngram_frequency_from_request\u001b[1;34m(request, regex)\u001b[0m\n\u001b[0;32m      1\u001b[0m \u001b[1;32mdef\u001b[0m \u001b[0mget_ngram_frequency_from_request\u001b[0m\u001b[1;33m(\u001b[0m\u001b[0mrequest\u001b[0m\u001b[1;33m,\u001b[0m \u001b[0mregex\u001b[0m\u001b[1;33m)\u001b[0m\u001b[1;33m:\u001b[0m\u001b[1;33m\u001b[0m\u001b[0m\n\u001b[0;32m      2\u001b[0m     \u001b[0mresults\u001b[0m \u001b[1;33m=\u001b[0m \u001b[1;33m[\u001b[0m\u001b[1;33m]\u001b[0m\u001b[1;33m\u001b[0m\u001b[0m\n\u001b[1;32m----> 3\u001b[1;33m     \u001b[0mfrequencies\u001b[0m \u001b[1;33m=\u001b[0m \u001b[0mregex\u001b[0m\u001b[1;33m.\u001b[0m\u001b[0msearch\u001b[0m\u001b[1;33m(\u001b[0m\u001b[0mrequest\u001b[0m\u001b[1;33m.\u001b[0m\u001b[0mtext\u001b[0m\u001b[1;33m)\u001b[0m\u001b[1;33m.\u001b[0m\u001b[0mgroup\u001b[0m\u001b[1;33m(\u001b[0m\u001b[1;33m)\u001b[0m\u001b[1;33m\u001b[0m\u001b[0m\n\u001b[0m\u001b[0;32m      4\u001b[0m     \u001b[0mfrequencies\u001b[0m \u001b[1;33m=\u001b[0m \u001b[0mfrequencies\u001b[0m\u001b[1;33m[\u001b[0m\u001b[1;36m13\u001b[0m\u001b[1;33m:\u001b[0m\u001b[1;33m-\u001b[0m\u001b[1;36m1\u001b[0m\u001b[1;33m]\u001b[0m\u001b[1;33m\u001b[0m\u001b[0m\n\u001b[0;32m      5\u001b[0m     \u001b[0mfrequencies\u001b[0m \u001b[1;33m=\u001b[0m \u001b[0mfrequencies\u001b[0m\u001b[1;33m.\u001b[0m\u001b[0msplit\u001b[0m\u001b[1;33m(\u001b[0m\u001b[1;34m\", \"\u001b[0m\u001b[1;33m)\u001b[0m\u001b[1;33m\u001b[0m\u001b[0m\n",
      "\u001b[1;31mAttributeError\u001b[0m: 'NoneType' object has no attribute 'group'"
     ]
    }
   ],
   "source": [
    "lexicon_frequencies = get_lexicon_frequencies(lexicon)\n",
    "pd.DataFrame(lexicon_frequencies).to_csv('lexicon_frequencies.csv')"
   ]
  },
  {
   "cell_type": "code",
   "execution_count": 144,
   "metadata": {
    "collapsed": false
   },
   "outputs": [
    {
     "data": {
      "text/plain": [
       "'!\"#$%&\\'()*+,-./:;<=>?@[\\\\]^_`{|}~'"
      ]
     },
     "execution_count": 144,
     "metadata": {},
     "output_type": "execute_result"
    }
   ],
   "source": [
    "import string\n",
    "from nltk.corpus import stopwords\n",
    "string.punctuation"
   ]
  },
  {
   "cell_type": "code",
   "execution_count": 129,
   "metadata": {
    "collapsed": false
   },
   "outputs": [
    {
     "data": {
      "text/plain": [
       "1818"
      ]
     },
     "execution_count": 129,
     "metadata": {},
     "output_type": "execute_result"
    }
   ],
   "source": [
    "min(min(EAP_major_works), min(MWS_major_works), min(HPL_major_works))"
   ]
  },
  {
   "cell_type": "code",
   "execution_count": 130,
   "metadata": {
    "collapsed": false
   },
   "outputs": [
    {
     "data": {
      "text/plain": [
       "1943"
      ]
     },
     "execution_count": 130,
     "metadata": {},
     "output_type": "execute_result"
    }
   ],
   "source": [
    "max(max(EAP_major_works), max(MWS_major_works), max(HPL_major_works))"
   ]
  },
  {
   "cell_type": "code",
   "execution_count": 131,
   "metadata": {
    "collapsed": false
   },
   "outputs": [
    {
     "name": "stdout",
     "output_type": "stream",
     "text": [
      "[1.47860579214797e-06, 6.053814049113443e-06, 1.219009303697835e-06]\n"
     ]
    }
   ],
   "source": [
    "licked_frequencies = get_ngram_frequency('licked')\n",
    "print(licked_frequencies)"
   ]
  },
  {
   "cell_type": "code",
   "execution_count": 63,
   "metadata": {
    "collapsed": false
   },
   "outputs": [
    {
     "data": {
      "text/html": [
       "<div>\n",
       "<style scoped>\n",
       "    .dataframe tbody tr th:only-of-type {\n",
       "        vertical-align: middle;\n",
       "    }\n",
       "\n",
       "    .dataframe tbody tr th {\n",
       "        vertical-align: top;\n",
       "    }\n",
       "\n",
       "    .dataframe thead th {\n",
       "        text-align: right;\n",
       "    }\n",
       "</style>\n",
       "<table border=\"1\" class=\"dataframe\">\n",
       "  <thead>\n",
       "    <tr style=\"text-align: right;\">\n",
       "      <th></th>\n",
       "      <th>text</th>\n",
       "      <th>author</th>\n",
       "    </tr>\n",
       "    <tr>\n",
       "      <th>id</th>\n",
       "      <th></th>\n",
       "      <th></th>\n",
       "    </tr>\n",
       "  </thead>\n",
       "  <tbody>\n",
       "    <tr>\n",
       "      <th>id26305</th>\n",
       "      <td>This process, however, afforded me no means of...</td>\n",
       "      <td>EAP</td>\n",
       "    </tr>\n",
       "    <tr>\n",
       "      <th>id17569</th>\n",
       "      <td>It never once occurred to me that the fumbling...</td>\n",
       "      <td>HPL</td>\n",
       "    </tr>\n",
       "    <tr>\n",
       "      <th>id11008</th>\n",
       "      <td>In his left hand was a gold snuff box, from wh...</td>\n",
       "      <td>EAP</td>\n",
       "    </tr>\n",
       "    <tr>\n",
       "      <th>id27763</th>\n",
       "      <td>How lovely is spring As we looked from Windsor...</td>\n",
       "      <td>MWS</td>\n",
       "    </tr>\n",
       "    <tr>\n",
       "      <th>id12958</th>\n",
       "      <td>Finding nothing else, not even gold, the Super...</td>\n",
       "      <td>HPL</td>\n",
       "    </tr>\n",
       "  </tbody>\n",
       "</table>\n",
       "</div>"
      ],
      "text/plain": [
       "                                                      text author\n",
       "id                                                               \n",
       "id26305  This process, however, afforded me no means of...    EAP\n",
       "id17569  It never once occurred to me that the fumbling...    HPL\n",
       "id11008  In his left hand was a gold snuff box, from wh...    EAP\n",
       "id27763  How lovely is spring As we looked from Windsor...    MWS\n",
       "id12958  Finding nothing else, not even gold, the Super...    HPL"
      ]
     },
     "execution_count": 63,
     "metadata": {},
     "output_type": "execute_result"
    }
   ],
   "source": [
    "import pandas as pd\n",
    "df = pd.read_csv(filename, index_col='id')\n",
    "df.head()"
   ]
  },
  {
   "cell_type": "code",
   "execution_count": 71,
   "metadata": {
    "collapsed": false
   },
   "outputs": [
    {
     "name": "stdout",
     "output_type": "stream",
     "text": [
      "Average length of sentences by EAP: 142.22594936708862\n",
      "Average length of sentences by MWS: 151.65982792852415\n",
      "Average length of sentences by HPL: 155.84347826086957\n"
     ]
    }
   ],
   "source": [
    "for author in ['EAP', 'MWS', 'HPL']:\n",
    "    print(\"Average length of sentences by {}: {}\".format(author, np.mean([len(t) for t in df[df['author']==author].text])))"
   ]
  },
  {
   "cell_type": "code",
   "execution_count": 126,
   "metadata": {
    "collapsed": false
   },
   "outputs": [
    {
     "name": "stdout",
     "output_type": "stream",
     "text": [
      "Average characters per word by EAP: 5.590114181944824\n",
      "Average characters per word by MWS: 5.5315430571480295\n",
      "Average characters per word by HPL: 5.605952084570159\n"
     ]
    }
   ],
   "source": [
    "for author in ['EAP', 'MWS', 'HPL']:\n",
    "    print(\"Average characters per word by {}: {}\"\n",
    "          .format(author, (sum([len(t) for t in df[df['author']==author].text])/\n",
    "                           (sum([len(t.split(\" \")) for t in df[df['author']==author].text])))))"
   ]
  },
  {
   "cell_type": "code",
   "execution_count": 73,
   "metadata": {
    "collapsed": false
   },
   "outputs": [
    {
     "name": "stdout",
     "output_type": "stream",
     "text": [
      "Number of strings containing the word 'gods' by EAP: 4\n",
      "Number of strings containing the word 'gods' by MWS: 3\n",
      "Number of strings containing the word 'gods' by HPL: 38\n"
     ]
    }
   ],
   "source": [
    "for author in ['EAP', 'MWS', 'HPL']:\n",
    "    print(\"Number of strings containing the word 'gods' by {}: {}\".format(author, sum(['gods' in t for t in df[df['author']==author].text])))"
   ]
  },
  {
   "cell_type": "code",
   "execution_count": 127,
   "metadata": {
    "collapsed": false
   },
   "outputs": [
    {
     "name": "stdout",
     "output_type": "stream",
     "text": [
      "Number of strings containing the word 'whence' by EAP: 9\n",
      "Number of strings containing the word 'whence' by MWS: 8\n",
      "Number of strings containing the word 'whence' by HPL: 10\n"
     ]
    }
   ],
   "source": [
    "for author in ['EAP', 'MWS', 'HPL']:\n",
    "    print(\"Number of strings containing the word 'whence' by {}: {}\".format(author, sum(['whence' in t.lower() for t in df[df['author']==author].text])))"
   ]
  },
  {
   "cell_type": "code",
   "execution_count": 134,
   "metadata": {
    "collapsed": false
   },
   "outputs": [
    {
     "name": "stdout",
     "output_type": "stream",
     "text": [
      "Number of strings containing a semicolon by EAP: 1084\n",
      "Number of strings containing a semicolon by MWS: 1969\n",
      "Number of strings containing a semicolon by HPL: 1084\n"
     ]
    }
   ],
   "source": [
    "for author in ['EAP', 'MWS', 'HPL']:\n",
    "    print(\"Number of strings containing a semicolon by {}: {}\".format(author, sum([';' in t for t in df[df['author']==author].text])))"
   ]
  },
  {
   "cell_type": "code",
   "execution_count": 83,
   "metadata": {
    "collapsed": false
   },
   "outputs": [
    {
     "name": "stdout",
     "output_type": "stream",
     "text": [
      "Number of strings by EAP: 7900\n",
      "Number of words by EAP: 200995\n",
      "Average words per string: 25.44240506329114\n",
      "Number of strings by MWS: 6044\n",
      "Number of words by MWS: 165710\n",
      "Average words per string: 27.417273328921244\n",
      "Number of strings by HPL: 5635\n",
      "Number of words by HPL: 156651\n",
      "Average words per string: 27.799645075421473\n"
     ]
    }
   ],
   "source": [
    "for author in ['EAP', 'MWS', 'HPL']:\n",
    "    print(\"Number of strings by {}: {}\".format(author, df[df['author']==author].shape[0]))\n",
    "    print(\"Number of words by {}: {}\".format(author, sum([len(t.split(\" \")) for t in df[df['author']==author].text])))\n",
    "    print(\"Average words per string: {}\".format((sum([len(t.split(\" \")) for t in df[df['author']==author].text]))/df[df['author']==author].shape[0]))"
   ]
  },
  {
   "cell_type": "code",
   "execution_count": 93,
   "metadata": {
    "collapsed": true
   },
   "outputs": [],
   "source": [
    "from nltk import tokenize"
   ]
  },
  {
   "cell_type": "code",
   "execution_count": 94,
   "metadata": {
    "collapsed": false
   },
   "outputs": [
    {
     "data": {
      "text/plain": [
       "['This',\n",
       " 'process',\n",
       " ',',\n",
       " 'however',\n",
       " ',',\n",
       " 'afforded',\n",
       " 'me',\n",
       " 'no',\n",
       " 'means',\n",
       " 'of',\n",
       " 'ascertaining',\n",
       " 'the',\n",
       " 'dimensions',\n",
       " 'of',\n",
       " 'my',\n",
       " 'dungeon',\n",
       " ';',\n",
       " 'as',\n",
       " 'I',\n",
       " 'might',\n",
       " 'make',\n",
       " 'its',\n",
       " 'circuit',\n",
       " ',',\n",
       " 'and',\n",
       " 'return',\n",
       " 'to',\n",
       " 'the',\n",
       " 'point',\n",
       " 'whence',\n",
       " 'I',\n",
       " 'set',\n",
       " 'out',\n",
       " ',',\n",
       " 'without',\n",
       " 'being',\n",
       " 'aware',\n",
       " 'of',\n",
       " 'the',\n",
       " 'fact',\n",
       " ';',\n",
       " 'so',\n",
       " 'perfectly',\n",
       " 'uniform',\n",
       " 'seemed',\n",
       " 'the',\n",
       " 'wall',\n",
       " '.']"
      ]
     },
     "execution_count": 94,
     "metadata": {},
     "output_type": "execute_result"
    }
   ],
   "source": [
    "tokenize.word_tokenize(df.text[0])"
   ]
  },
  {
   "cell_type": "code",
   "execution_count": 123,
   "metadata": {
    "collapsed": false
   },
   "outputs": [
    {
     "data": {
      "image/png": "[encoded data removed]",
      "text/plain": [
       "<Figure size 432x288 with 1 Axes>"
      ]
     },
     "metadata": {
      "needs_background": "light"
     },
     "output_type": "display_data"
    }
   ],
   "source": [
    "import matplotlib.pyplot as plt\n",
    "plt.figure()\n",
    "EAP_sentence_lengths = [len(t) for t in df[df['author']=='EAP'].text]\n",
    "HPL_sentence_lengths = [len(t) for t in df[df['author']=='MWS'].text]\n",
    "MWS_sentence_lengths = [len(t) for t in df[df['author']=='HPL'].text]\n",
    "labels = ['EAP', 'HPL', 'MWS']\n",
    "H = plt.hist([EAP_sentence_lengths, HPL_sentence_lengths, MWS_sentence_lengths], label=labels, bins=[i for i in range(0, 400, 30)])\n",
    "containers = H[-1]\n",
    "leg = plt.legend(frameon=False)\n",
    "plt.title(\"Sentence lengths of the three authors\")\n",
    "plt.show()"
   ]
  },
  {
   "cell_type": "code",
   "execution_count": 125,
   "metadata": {
    "collapsed": false
   },
   "outputs": [
    {
     "data": {
      "image/png": "[encoded data removed]",
      "text/plain": [
       "<Figure size 432x288 with 1 Axes>"
      ]
     },
     "metadata": {
      "needs_background": "light"
     },
     "output_type": "display_data"
    }
   ],
   "source": [
    "import matplotlib.pyplot as plt\n",
    "plt.figure()\n",
    "EAP_word_counts = [len(t.split(\" \")) for t in df[df['author']=='EAP'].text]\n",
    "HPL_word_counts = [len(t.split(\" \")) for t in df[df['author']=='MWS'].text]\n",
    "MWS_word_counts = [len(t.split(\" \")) for t in df[df['author']=='HPL'].text]\n",
    "labels = ['EAP', 'HPL', 'MWS']\n",
    "H = plt.hist([EAP_word_counts, HPL_word_counts, MWS_word_counts], label=labels, bins=[i for i in range(0, 60, 3)])\n",
    "containers = H[-1]\n",
    "leg = plt.legend(frameon=False)\n",
    "plt.title(\"Words per sentence of the three authors\")\n",
    "plt.show()"
   ]
  }
 ],
 "metadata": {
  "anaconda-cloud": {},
  "kernelspec": {
   "display_name": "Python (spacy)",
   "language": "python",
   "name": "spacy"
  },
  "language_info": {
   "codemirror_mode": {
    "name": "ipython",
    "version": 3
   },
   "file_extension": ".py",
   "mimetype": "text/x-python",
   "name": "python",
   "nbconvert_exporter": "python",
   "pygments_lexer": "ipython3",
   "version": "3.5.6"
  },
  "varInspector": {
   "cols": {
    "lenName": 16,
    "lenType": 16,
    "lenVar": 40
   },
   "kernels_config": {
    "python": {
     "delete_cmd_postfix": "",
     "delete_cmd_prefix": "del ",
     "library": "var_list.py",
     "varRefreshCmd": "print(var_dic_list())"
    },
    "r": {
     "delete_cmd_postfix": ") ",
     "delete_cmd_prefix": "rm(",
     "library": "var_list.r",
     "varRefreshCmd": "cat(var_dic_list()) "
    }
   },
   "types_to_exclude": [
    "module",
    "function",
    "builtin_function_or_method",
    "instance",
    "_Feature"
   ],
   "window_display": false
  }
 },
 "nbformat": 4,
 "nbformat_minor": 2
}
