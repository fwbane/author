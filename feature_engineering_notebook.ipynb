{
 "cells": [
  {
   "cell_type": "code",
   "execution_count": 3,
   "metadata": {},
   "outputs": [],
   "source": [
    "import requests\n",
    "import time\n",
    "import requests\n",
    "import time\n",
    "import re\n",
    "import pandas as pd\n",
    "from collections import Counter\n",
    "from nltk import tokenize\n",
    "import nltk\n",
    "from nltk.corpus import stopwords\n",
    "filename = 'train.csv'"
   ]
  },
  {
   "cell_type": "code",
   "execution_count": 154,
   "metadata": {
    "collapsed": true
   },
   "outputs": [],
   "source": [
    "EAP_start = 1827\n",
    "EAP_end = 1849\n",
    "EAP_major_works = [1831, 1839, 1843, 1845, 1846, 1849]\n",
    "HPL_start = 1910\n",
    "HPL_end = 1943\n",
    "HPL_major_works = [1928, 1936, 1943]\n",
    "MWS_start = 1818\n",
    "MWS_end = 1837\n",
    "MWS_major_works = [1818, 1823, 1826, 1830, 1835, 1837]"
   ]
  },
  {
   "cell_type": "code",
   "execution_count": 5,
   "metadata": {},
   "outputs": [],
   "source": [
    "df = pd.read_csv('train.csv', index_col='id')"
   ]
  },
  {
   "cell_type": "code",
   "execution_count": 153,
   "metadata": {
    "collapsed": true
   },
   "outputs": [],
   "source": [
    "ngram_data_regex = re.compile(r'imeseries\\\": \\[(\\d|\\.|\\s|,|e|-)*\\]')"
   ]
  },
  {
   "cell_type": "code",
   "execution_count": 155,
   "metadata": {
    "collapsed": true
   },
   "outputs": [],
   "source": [
    "def get_ngram_frequency_from_request(request, regex):\n",
    "    results = []\n",
    "    frequencies = regex.search(request.text).group()\n",
    "    frequencies = frequencies[13:-1]\n",
    "    frequencies = frequencies.split(\", \")\n",
    "    frequencies = [float(f) for f in frequencies]\n",
    "    results.append(np.mean([f for f in frequencies[EAP_start-1818:EAP_end-1818] if f>0]))\n",
    "    results.append(np.mean([f for f in frequencies[HPL_start-1818:HPL_end-1818] if f>0]))\n",
    "    results.append(np.mean([f for f in frequencies[MWS_start-1818:MWS_end-1818] if f>0]))\n",
    "    return results"
   ]
  },
  {
   "cell_type": "code",
   "execution_count": 6,
   "metadata": {},
   "outputs": [],
   "source": [
    "token_list = []\n",
    "stopWords = set(stopwords.words('english'))\n",
    "for sentence in df.text:\n",
    "    tokens = tokenize.word_tokenize(sentence)\n",
    "    tokens = [t for t in tokens if len(t)>1 and t not in stopWords]\n",
    "    token_list.append(tokens)"
   ]
  },
  {
   "cell_type": "code",
   "execution_count": 163,
   "metadata": {
    "collapsed": true
   },
   "outputs": [],
   "source": [
    "lexicon = set()\n",
    "for sentence in token_list:\n",
    "    lexicon.update(sentence)"
   ]
  },
  {
   "cell_type": "code",
   "execution_count": 164,
   "metadata": {},
   "outputs": [
    {
     "data": {
      "text/plain": [
       "27575"
      ]
     },
     "execution_count": 164,
     "metadata": {},
     "output_type": "execute_result"
    }
   ],
   "source": [
    "len(lexicon)"
   ]
  },
  {
   "cell_type": "code",
   "execution_count": 289,
   "metadata": {
    "collapsed": true
   },
   "outputs": [],
   "source": [
    "lexicons = []\n",
    "for author in ['EAP', 'HPL', 'MWS']:\n",
    "    author_lexicon = set()\n",
    "    for sentence in df[df['author']==author].text:\n",
    "        tokens = tokenize.word_tokenize(sentence)\n",
    "        tokens = [t.lower() for t in tokens if len(t)>1 and t not in stopWords]\n",
    "        author_lexicon.update(tokens)\n",
    "    lexicons.append(author_lexicon)"
   ]
  },
  {
   "cell_type": "code",
   "execution_count": 290,
   "metadata": {
    "collapsed": true
   },
   "outputs": [],
   "source": [
    "EAP_lexicon, HPL_lexicon, MWS_lexicon = lexicons"
   ]
  },
  {
   "cell_type": "code",
   "execution_count": 291,
   "metadata": {},
   "outputs": [
    {
     "name": "stdout",
     "output_type": "stream",
     "text": [
      "15443 14495 11536\n"
     ]
    }
   ],
   "source": [
    "print(len(EAP_lexicon), len(HPL_lexicon), len(MWS_lexicon))"
   ]
  },
  {
   "cell_type": "code",
   "execution_count": 292,
   "metadata": {},
   "outputs": [
    {
     "data": {
      "text/plain": [
       "3003"
      ]
     },
     "execution_count": 292,
     "metadata": {},
     "output_type": "execute_result"
    }
   ],
   "source": [
    "MWS_unique_words = MWS_lexicon.difference(HPL_lexicon.union(EAP_lexicon))\n",
    "len(MWS_unique_words)"
   ]
  },
  {
   "cell_type": "code",
   "execution_count": 293,
   "metadata": {},
   "outputs": [
    {
     "data": {
      "text/plain": [
       "5584"
      ]
     },
     "execution_count": 293,
     "metadata": {},
     "output_type": "execute_result"
    }
   ],
   "source": [
    "HPL_unique_words = HPL_lexicon.difference(MWS_lexicon.union(EAP_lexicon))\n",
    "len(HPL_unique_words)"
   ]
  },
  {
   "cell_type": "code",
   "execution_count": 294,
   "metadata": {},
   "outputs": [
    {
     "data": {
      "text/plain": [
       "5882"
      ]
     },
     "execution_count": 294,
     "metadata": {},
     "output_type": "execute_result"
    }
   ],
   "source": [
    "EAP_unique_words = EAP_lexicon.difference(HPL_lexicon.union(MWS_lexicon))\n",
    "len(EAP_unique_words)"
   ]
  },
  {
   "cell_type": "code",
   "execution_count": 315,
   "metadata": {},
   "outputs": [
    {
     "name": "stdout",
     "output_type": "stream",
     "text": [
      "crawl 7 34\n",
      "woodland 6 6\n",
      "recurrent 2 1\n",
      "creaters 1 1\n",
      "bewilderingly 2 2\n",
      "hadoth 1 0\n",
      "victoriously 1 1\n",
      "younguns 1 1\n",
      "distorting 1 1\n",
      "casualness 1 1\n",
      "coroner 3 3\n",
      "oozed 2 2\n",
      "textbook 1 1\n",
      "pads 1 2\n",
      "silks 1 1\n",
      "overshoot 1 1\n",
      "fortress 3 4\n",
      "pulpy 2 2\n",
      "inarticulateness 1 1\n",
      "rams 1 8\n"
     ]
    }
   ],
   "source": [
    "# POP method is destructive - removes and returns the items from the set. Re-run above three cells after experimentation\n",
    "for i in range(20):\n",
    "    word = HPL_unique_words.pop()\n",
    "    print(word, wordcounts[word], sum([word in text for text in df.text]))"
   ]
  },
  {
   "cell_type": "code",
   "execution_count": 180,
   "metadata": {},
   "outputs": [],
   "source": [
    "def get_lexicon_frequencies(lexicon):\n",
    "    lexicon_frequencies = []\n",
    "    error_counter = 0\n",
    "    sleep_time = 1\n",
    "    BASEURL = \"https://books.google.com/ngrams/graph?content={}&year_start=1818&year_end=1943&corpus=16&smoothing=0\"\n",
    "    for n, word in enumerate(lexicon):\n",
    "        if n%1378 == 1:\n",
    "            print(\"{}% done!\".format(round(len(lexicon)/n), 2))\n",
    "        if error_counter > 8:\n",
    "            print(\"too many errors. Sleep time = {}\".format(sleep_time))\n",
    "            break\n",
    "        request = requests.get(BASEURL.format(word))\n",
    "        if request.status_code != 200:\n",
    "            error_counter += 1\n",
    "            time.sleep(sleep_time)\n",
    "            request = requests.get(BASEURL.format(word))\n",
    "            if request.status_code != 200:\n",
    "                error_counter += 1\n",
    "                print(\"two consecutive errors\")\n",
    "                print(request.status_code, request.text)\n",
    "                time.sleep(300)\n",
    "                sleep_time *= 2\n",
    "        ngram_frequencies = get_ngram_frequency_from_request(request, ngram_data_regex)\n",
    "        lexicon_frequencies.append((word, ngram_frequencies))\n",
    "        time.sleep(sleep_time)\n",
    "    return lexicon_frequencies"
   ]
  },
  {
   "cell_type": "code",
   "execution_count": 182,
   "metadata": {},
   "outputs": [
    {
     "data": {
      "text/plain": [
       "22"
      ]
     },
     "execution_count": 182,
     "metadata": {},
     "output_type": "execute_result"
    }
   ],
   "source": [
    "len(lexicon_frequencies)"
   ]
  },
  {
   "cell_type": "code",
   "execution_count": 144,
   "metadata": {},
   "outputs": [
    {
     "data": {
      "text/plain": [
       "'!\"#$%&\\'()*+,-./:;<=>?@[\\\\]^_`{|}~'"
      ]
     },
     "execution_count": 144,
     "metadata": {},
     "output_type": "execute_result"
    }
   ],
   "source": [
    "import string\n",
    "from nltk.corpus import stopwords\n",
    "string.punctuation"
   ]
  },
  {
   "cell_type": "code",
   "execution_count": 129,
   "metadata": {},
   "outputs": [
    {
     "data": {
      "text/plain": [
       "1818"
      ]
     },
     "execution_count": 129,
     "metadata": {},
     "output_type": "execute_result"
    }
   ],
   "source": [
    "min(min(EAP_major_works), min(MWS_major_works), min(HPL_major_works))"
   ]
  },
  {
   "cell_type": "code",
   "execution_count": 130,
   "metadata": {},
   "outputs": [
    {
     "data": {
      "text/plain": [
       "1943"
      ]
     },
     "execution_count": 130,
     "metadata": {},
     "output_type": "execute_result"
    }
   ],
   "source": [
    "max(max(EAP_major_works), max(MWS_major_works), max(HPL_major_works))"
   ]
  },
  {
   "cell_type": "code",
   "execution_count": 131,
   "metadata": {},
   "outputs": [
    {
     "name": "stdout",
     "output_type": "stream",
     "text": [
      "[1.47860579214797e-06, 6.053814049113443e-06, 1.219009303697835e-06]\n"
     ]
    }
   ],
   "source": [
    "licked_frequencies = get_ngram_frequency('licked')\n",
    "print(licked_frequencies)"
   ]
  },
  {
   "cell_type": "code",
   "execution_count": 7,
   "metadata": {},
   "outputs": [
    {
     "data": {
      "text/html": [
       "<div>\n",
       "<style scoped>\n",
       "    .dataframe tbody tr th:only-of-type {\n",
       "        vertical-align: middle;\n",
       "    }\n",
       "\n",
       "    .dataframe tbody tr th {\n",
       "        vertical-align: top;\n",
       "    }\n",
       "\n",
       "    .dataframe thead th {\n",
       "        text-align: right;\n",
       "    }\n",
       "</style>\n",
       "<table border=\"1\" class=\"dataframe\">\n",
       "  <thead>\n",
       "    <tr style=\"text-align: right;\">\n",
       "      <th></th>\n",
       "      <th>text</th>\n",
       "      <th>author</th>\n",
       "    </tr>\n",
       "    <tr>\n",
       "      <th>id</th>\n",
       "      <th></th>\n",
       "      <th></th>\n",
       "    </tr>\n",
       "  </thead>\n",
       "  <tbody>\n",
       "    <tr>\n",
       "      <th>id26305</th>\n",
       "      <td>This process, however, afforded me no means of...</td>\n",
       "      <td>EAP</td>\n",
       "    </tr>\n",
       "    <tr>\n",
       "      <th>id17569</th>\n",
       "      <td>It never once occurred to me that the fumbling...</td>\n",
       "      <td>HPL</td>\n",
       "    </tr>\n",
       "    <tr>\n",
       "      <th>id11008</th>\n",
       "      <td>In his left hand was a gold snuff box, from wh...</td>\n",
       "      <td>EAP</td>\n",
       "    </tr>\n",
       "    <tr>\n",
       "      <th>id27763</th>\n",
       "      <td>How lovely is spring As we looked from Windsor...</td>\n",
       "      <td>MWS</td>\n",
       "    </tr>\n",
       "    <tr>\n",
       "      <th>id12958</th>\n",
       "      <td>Finding nothing else, not even gold, the Super...</td>\n",
       "      <td>HPL</td>\n",
       "    </tr>\n",
       "  </tbody>\n",
       "</table>\n",
       "</div>"
      ],
      "text/plain": [
       "                                                      text author\n",
       "id                                                               \n",
       "id26305  This process, however, afforded me no means of...    EAP\n",
       "id17569  It never once occurred to me that the fumbling...    HPL\n",
       "id11008  In his left hand was a gold snuff box, from wh...    EAP\n",
       "id27763  How lovely is spring As we looked from Windsor...    MWS\n",
       "id12958  Finding nothing else, not even gold, the Super...    HPL"
      ]
     },
     "execution_count": 7,
     "metadata": {},
     "output_type": "execute_result"
    }
   ],
   "source": [
    "import pandas as pd\n",
    "df = pd.read_csv(filename, index_col='id')\n",
    "df.head()"
   ]
  },
  {
   "cell_type": "code",
   "execution_count": 18,
   "metadata": {},
   "outputs": [
    {
     "data": {
      "text/plain": [
       "['EAP', 'HPL', 'MWS']"
      ]
     },
     "execution_count": 18,
     "metadata": {},
     "output_type": "execute_result"
    }
   ],
   "source": [
    "list(df.author.unique())"
   ]
  },
  {
   "cell_type": "code",
   "execution_count": 8,
   "metadata": {},
   "outputs": [],
   "source": [
    "authors = ['EAP', 'HPL', 'MWS']"
   ]
  },
  {
   "cell_type": "code",
   "execution_count": 11,
   "metadata": {},
   "outputs": [],
   "source": [
    "lookup = {a: _ for _, a in enumerate(authors)}"
   ]
  },
  {
   "cell_type": "code",
   "execution_count": 12,
   "metadata": {},
   "outputs": [],
   "source": [
    "df['y'] = [lookup[i] for i in df.author]"
   ]
  },
  {
   "cell_type": "code",
   "execution_count": 13,
   "metadata": {},
   "outputs": [
    {
     "data": {
      "text/html": [
       "<div>\n",
       "<style scoped>\n",
       "    .dataframe tbody tr th:only-of-type {\n",
       "        vertical-align: middle;\n",
       "    }\n",
       "\n",
       "    .dataframe tbody tr th {\n",
       "        vertical-align: top;\n",
       "    }\n",
       "\n",
       "    .dataframe thead tr th {\n",
       "        text-align: left;\n",
       "    }\n",
       "\n",
       "    .dataframe thead tr:last-of-type th {\n",
       "        text-align: right;\n",
       "    }\n",
       "</style>\n",
       "<table border=\"1\" class=\"dataframe\">\n",
       "  <thead>\n",
       "    <tr>\n",
       "      <th></th>\n",
       "      <th></th>\n",
       "      <th colspan=\"4\" halign=\"left\">text</th>\n",
       "    </tr>\n",
       "    <tr>\n",
       "      <th></th>\n",
       "      <th></th>\n",
       "      <th>count</th>\n",
       "      <th>unique</th>\n",
       "      <th>top</th>\n",
       "      <th>freq</th>\n",
       "    </tr>\n",
       "    <tr>\n",
       "      <th>author</th>\n",
       "      <th>y</th>\n",
       "      <th></th>\n",
       "      <th></th>\n",
       "      <th></th>\n",
       "      <th></th>\n",
       "    </tr>\n",
       "  </thead>\n",
       "  <tbody>\n",
       "    <tr>\n",
       "      <th>EAP</th>\n",
       "      <th>0</th>\n",
       "      <td>7900</td>\n",
       "      <td>7900</td>\n",
       "      <td>In a word, nothing could more seriously distur...</td>\n",
       "      <td>1</td>\n",
       "    </tr>\n",
       "    <tr>\n",
       "      <th>HPL</th>\n",
       "      <th>1</th>\n",
       "      <td>5635</td>\n",
       "      <td>5635</td>\n",
       "      <td>Nor was there ever a marble city of Aira, nor ...</td>\n",
       "      <td>1</td>\n",
       "    </tr>\n",
       "    <tr>\n",
       "      <th>MWS</th>\n",
       "      <th>2</th>\n",
       "      <td>6044</td>\n",
       "      <td>6044</td>\n",
       "      <td>While every mind was full of dismay at its eff...</td>\n",
       "      <td>1</td>\n",
       "    </tr>\n",
       "  </tbody>\n",
       "</table>\n",
       "</div>"
      ],
      "text/plain": [
       "          text                                                               \n",
       "         count unique                                                top freq\n",
       "author y                                                                     \n",
       "EAP    0  7900   7900  In a word, nothing could more seriously distur...    1\n",
       "HPL    1  5635   5635  Nor was there ever a marble city of Aira, nor ...    1\n",
       "MWS    2  6044   6044  While every mind was full of dismay at its eff...    1"
      ]
     },
     "execution_count": 13,
     "metadata": {},
     "output_type": "execute_result"
    }
   ],
   "source": [
    "df.groupby([\"author\", \"y\"]).describe()"
   ]
  },
  {
   "cell_type": "code",
   "execution_count": 474,
   "metadata": {},
   "outputs": [
    {
     "name": "stdout",
     "output_type": "stream",
     "text": [
      "Average length of sentences by EAP: 142.22594936708862\n",
      "Average length of sentences by HPL: 155.84347826086957\n",
      "Average length of sentences by MWS: 151.65982792852415\n"
     ]
    }
   ],
   "source": [
    "for author in authors:\n",
    "    print(\"Average length of sentences by {}: {}\".format(author, np.mean([len(t) for t in df[df['author']==author].text])))"
   ]
  },
  {
   "cell_type": "code",
   "execution_count": 5,
   "metadata": {},
   "outputs": [
    {
     "data": {
      "text/plain": [
       "[0, 1, 2]"
      ]
     },
     "execution_count": 5,
     "metadata": {},
     "output_type": "execute_result"
    }
   ],
   "source": [
    "[lookup[i] for i in authors]"
   ]
  },
  {
   "cell_type": "code",
   "execution_count": 475,
   "metadata": {},
   "outputs": [
    {
     "name": "stdout",
     "output_type": "stream",
     "text": [
      "Number of strings by EAP: 7900\n",
      "Number of words by EAP: 200995\n",
      "Average words per string: 25.44240506329114\n",
      "Number of strings by HPL: 5635\n",
      "Number of words by HPL: 156651\n",
      "Average words per string: 27.799645075421473\n",
      "Number of strings by MWS: 6044\n",
      "Number of words by MWS: 165710\n",
      "Average words per string: 27.417273328921244\n"
     ]
    }
   ],
   "source": [
    "for author in authors:\n",
    "    print(\"Number of strings by {}: {}\".format(author, df[df['author']==author].shape[0]))\n",
    "    print(\"Number of words by {}: {}\".format(author, sum([len(t.split(\" \")) for t in df[df['author']==author].text])))\n",
    "    print(\"Average words per string: {}\".format((sum([len(t.split(\" \")) for t in df[df['author']==author].text]))/df[df['author']==author].shape[0]))"
   ]
  },
  {
   "cell_type": "code",
   "execution_count": 473,
   "metadata": {
    "collapsed": true
   },
   "outputs": [],
   "source": [
    "EAP_strings, MWS_strings, HPL_strings = 7900, 6044, 5635\n",
    "EAP_words, MWS_words, HPL_words = 200995, 165710, 156651"
   ]
  },
  {
   "cell_type": "code",
   "execution_count": 480,
   "metadata": {},
   "outputs": [],
   "source": [
    "string_ratios = np.asarray([EAP_strings, HPL_strings, MWS_strings])/(EAP_strings + HPL_strings + MWS_strings)"
   ]
  },
  {
   "cell_type": "code",
   "execution_count": 481,
   "metadata": {},
   "outputs": [
    {
     "data": {
      "text/plain": [
       "array([0.40349354, 0.28780837, 0.30869809])"
      ]
     },
     "execution_count": 481,
     "metadata": {},
     "output_type": "execute_result"
    }
   ],
   "source": [
    "string_ratios"
   ]
  },
  {
   "cell_type": "code",
   "execution_count": 482,
   "metadata": {
    "collapsed": true
   },
   "outputs": [],
   "source": [
    "word_ratios = np.asarray([EAP_words, HPL_words, MWS_words])/(EAP_words + HPL_words + MWS_words)"
   ]
  },
  {
   "cell_type": "code",
   "execution_count": 483,
   "metadata": {
    "scrolled": true
   },
   "outputs": [
    {
     "data": {
      "text/plain": [
       "array([0.38405024, 0.29932016, 0.3166296 ])"
      ]
     },
     "execution_count": 483,
     "metadata": {},
     "output_type": "execute_result"
    }
   ],
   "source": [
    "word_ratios"
   ]
  },
  {
   "cell_type": "code",
   "execution_count": 47,
   "metadata": {},
   "outputs": [
    {
     "data": {
      "image/png": "[encoded data removed]",
      "text/plain": [
       "<Figure size 432x288 with 1 Axes>"
      ]
     },
     "metadata": {
      "needs_background": "light"
     },
     "output_type": "display_data"
    }
   ],
   "source": [
    "import matplotlib.pyplot as plt\n",
    "\n",
    "EAP_sentence_lengths = [len(t) for t in df[df['author']=='EAP'].text]\n",
    "HPL_sentence_lengths = [len(t) for t in df[df['author']=='HPL'].text]\n",
    "MWS_sentence_lengths = [len(t) for t in df[df['author']=='MWS'].text]\n",
    "labels = ['EAP', 'HPL', 'MWS']\n",
    "\n",
    "plt.figure()\n",
    "H = plt.hist([EAP_sentence_lengths, HPL_sentence_lengths, MWS_sentence_lengths], label=labels, bins=[i for i in range(0, 400, 30)], density=True)\n",
    "leg = plt.legend(frameon=False)\n",
    "plt.title(\"Sentence lengths of the three authors\")\n",
    "plt.show()"
   ]
  },
  {
   "cell_type": "code",
   "execution_count": 15,
   "metadata": {},
   "outputs": [
    {
     "ename": "NameError",
     "evalue": "name 'EAP_word_counts' is not defined",
     "output_type": "error",
     "traceback": [
      "\u001b[0;31m---------------------------------------------------------------------------\u001b[0m",
      "\u001b[0;31mNameError\u001b[0m                                 Traceback (most recent call last)",
      "\u001b[0;32m<ipython-input-15-053336897877>\u001b[0m in \u001b[0;36m<module>\u001b[0;34m\u001b[0m\n\u001b[1;32m      1\u001b[0m \u001b[0mplt\u001b[0m\u001b[0;34m.\u001b[0m\u001b[0mfigure\u001b[0m\u001b[0;34m(\u001b[0m\u001b[0;34m)\u001b[0m\u001b[0;34m\u001b[0m\u001b[0;34m\u001b[0m\u001b[0m\n\u001b[0;32m----> 2\u001b[0;31m \u001b[0mH\u001b[0m \u001b[0;34m=\u001b[0m \u001b[0mplt\u001b[0m\u001b[0;34m.\u001b[0m\u001b[0mhist\u001b[0m\u001b[0;34m(\u001b[0m\u001b[0;34m[\u001b[0m\u001b[0mEAP_word_counts\u001b[0m\u001b[0;34m,\u001b[0m \u001b[0mHPL_word_counts\u001b[0m\u001b[0;34m,\u001b[0m \u001b[0mMWS_word_counts\u001b[0m\u001b[0;34m]\u001b[0m\u001b[0;34m,\u001b[0m \u001b[0mlabel\u001b[0m\u001b[0;34m=\u001b[0m\u001b[0mlabels\u001b[0m\u001b[0;34m,\u001b[0m \u001b[0mbins\u001b[0m\u001b[0;34m=\u001b[0m\u001b[0;34m[\u001b[0m\u001b[0mi\u001b[0m \u001b[0;32mfor\u001b[0m \u001b[0mi\u001b[0m \u001b[0;32min\u001b[0m \u001b[0mrange\u001b[0m\u001b[0;34m(\u001b[0m\u001b[0;36m0\u001b[0m\u001b[0;34m,\u001b[0m \u001b[0;36m60\u001b[0m\u001b[0;34m,\u001b[0m \u001b[0;36m3\u001b[0m\u001b[0;34m)\u001b[0m\u001b[0;34m]\u001b[0m\u001b[0;34m)\u001b[0m\u001b[0;34m\u001b[0m\u001b[0;34m\u001b[0m\u001b[0m\n\u001b[0m\u001b[1;32m      3\u001b[0m \u001b[0mleg\u001b[0m \u001b[0;34m=\u001b[0m \u001b[0mplt\u001b[0m\u001b[0;34m.\u001b[0m\u001b[0mlegend\u001b[0m\u001b[0;34m(\u001b[0m\u001b[0mframeon\u001b[0m\u001b[0;34m=\u001b[0m\u001b[0;32mFalse\u001b[0m\u001b[0;34m)\u001b[0m\u001b[0;34m\u001b[0m\u001b[0;34m\u001b[0m\u001b[0m\n\u001b[1;32m      4\u001b[0m \u001b[0mplt\u001b[0m\u001b[0;34m.\u001b[0m\u001b[0mtitle\u001b[0m\u001b[0;34m(\u001b[0m\u001b[0;34m\"Words per sentence of the three authors\"\u001b[0m\u001b[0;34m)\u001b[0m\u001b[0;34m\u001b[0m\u001b[0;34m\u001b[0m\u001b[0m\n\u001b[1;32m      5\u001b[0m \u001b[0mplt\u001b[0m\u001b[0;34m.\u001b[0m\u001b[0mshow\u001b[0m\u001b[0;34m(\u001b[0m\u001b[0;34m)\u001b[0m\u001b[0;34m\u001b[0m\u001b[0;34m\u001b[0m\u001b[0m\n",
      "\u001b[0;31mNameError\u001b[0m: name 'EAP_word_counts' is not defined"
     ]
    },
    {
     "data": {
      "text/plain": [
       "<Figure size 432x288 with 0 Axes>"
      ]
     },
     "metadata": {},
     "output_type": "display_data"
    }
   ],
   "source": [
    "plt.figure()\n",
    "H = plt.hist([EAP_word_counts, HPL_word_counts, MWS_word_counts], label=labels, bins=[i for i in range(0, 60, 3)])\n",
    "leg = plt.legend(frameon=False)\n",
    "plt.title(\"Words per sentence of the three authors\")\n",
    "plt.show()"
   ]
  },
  {
   "cell_type": "code",
   "execution_count": 49,
   "metadata": {},
   "outputs": [],
   "source": [
    "chars_regex = re.compile(r'[à|â|æ|ç|è|ë|ê|ï|î|ô|œ|ÿ|û|ù|á|é|í|ó|ú|ü]')\n",
    "df['chars'] = df['text'].apply(lambda x: len(chars_regex.findall(x)))\n",
    "df['chars_ratio'] = df['text'].apply(lambda x: len(chars_regex.findall(x))/len(x))"
   ]
  },
  {
   "cell_type": "code",
   "execution_count": 53,
   "metadata": {},
   "outputs": [
    {
     "data": {
      "image/png": "[encoded data removed]",
      "text/plain": [
       "<Figure size 432x288 with 1 Axes>"
      ]
     },
     "metadata": {
      "needs_background": "light"
     },
     "output_type": "display_data"
    }
   ],
   "source": [
    "EAP_chars = [n for n in df[df['author']=='EAP'].chars]\n",
    "HPL_chars = [n for n in df[df['author']=='HPL'].chars]\n",
    "MWS_chars = [n for n in df[df['author']=='MWS'].chars]\n",
    "\n",
    "plt.figure()\n",
    "H = plt.hist([EAP_chars, HPL_chars, MWS_chars], label=labels, bins=[i for i in range(0, 10, 1)], density=True)\n",
    "leg = plt.legend(frameon=False)\n",
    "plt.title(\"Number of special characters per sentence by author\")\n",
    "plt.yscale('log')\n",
    "plt.show()"
   ]
  },
  {
   "cell_type": "code",
   "execution_count": 65,
   "metadata": {},
   "outputs": [
    {
     "data": {
      "image/png": "[encoded data removed]",
      "text/plain": [
       "<Figure size 432x288 with 1 Axes>"
      ]
     },
     "metadata": {
      "needs_background": "light"
     },
     "output_type": "display_data"
    }
   ],
   "source": [
    "EAP_chars_ratio = [n*100 for n in df[df['author']=='EAP'].chars_ratio]\n",
    "HPL_chars_ratio = [n*100 for n in df[df['author']=='HPL'].chars_ratio]\n",
    "MWS_chars_ratio = [n*100 for n in df[df['author']=='MWS'].chars_ratio]\n",
    "\n",
    "plt.figure()\n",
    "H = plt.hist([EAP_chars_ratio, HPL_chars_ratio, MWS_chars_ratio], label=labels, bins=[i for i in range(0, 10, 1)], density=True)\n",
    "leg = plt.legend(frameon=False)\n",
    "plt.title(\"Ratio of special characters:regular characters per sentence by author\")\n",
    "plt.yscale(\"log\")\n",
    "plt.show()"
   ]
  },
  {
   "cell_type": "code",
   "execution_count": 66,
   "metadata": {},
   "outputs": [],
   "source": [
    "L_regex = re.compile(r'[Ll]\\'')\n",
    "df['L'] = df['text'].apply(lambda x: len(L_regex.findall(x)))\n",
    "df['L_ratio'] = df['text'].apply(lambda x: len(L_regex.findall(x))/len(x))"
   ]
  },
  {
   "cell_type": "code",
   "execution_count": 69,
   "metadata": {},
   "outputs": [
    {
     "data": {
      "image/png": "[encoded data removed]",
      "text/plain": [
       "<Figure size 432x288 with 1 Axes>"
      ]
     },
     "metadata": {
      "needs_background": "light"
     },
     "output_type": "display_data"
    }
   ],
   "source": [
    "EAP_L = [n for n in df[df['author']=='EAP'].L]\n",
    "HPL_L = [n for n in df[df['author']=='HPL'].L]\n",
    "MWS_L = [n for n in df[df['author']=='MWS'].L]\n",
    "\n",
    "plt.figure()\n",
    "H = plt.hist([EAP_L, HPL_L, MWS_L], label=labels, bins=[i for i in range(0, 10, 1)], density=True)\n",
    "leg = plt.legend(frameon=False)\n",
    "plt.title(\"Number of L' per sentence by author\")\n",
    "plt.yscale('log')\n",
    "plt.show()"
   ]
  },
  {
   "cell_type": "code",
   "execution_count": 90,
   "metadata": {},
   "outputs": [
    {
     "data": {
      "image/png": "[encoded data removed]",
      "text/plain": [
       "<Figure size 432x288 with 1 Axes>"
      ]
     },
     "metadata": {
      "needs_background": "light"
     },
     "output_type": "display_data"
    }
   ],
   "source": [
    "EAP_L_percent = [n*100 for n in df[df['author']=='EAP'].L_ratio]\n",
    "HPL_L_percent = [n*100 for n in df[df['author']=='HPL'].L_ratio]\n",
    "MWS_L_percent = [n*100 for n in df[df['author']=='MWS'].L_ratio]\n",
    "\n",
    "plt.figure()\n",
    "H = plt.hist([EAP_L_percent, HPL_L_percent, MWS_L_percent], label=labels, bins=[i/10 for i in range(1, 50, 1)], density=True)\n",
    "leg = plt.legend(frameon=False)\n",
    "plt.title(\"Ratio of L' per sentence by author\")\n",
    "plt.show()"
   ]
  },
  {
   "cell_type": "code",
   "execution_count": 24,
   "metadata": {},
   "outputs": [],
   "source": [
    "cap_regex = re.compile(r'[A-Z]')\n",
    "df['caps'] = df['text'].apply(lambda x: len(cap_regex.findall(x)))\n",
    "df['caps_ratio'] = df['text'].apply(lambda x: len(cap_regex.findall(x))/len(x))"
   ]
  },
  {
   "cell_type": "code",
   "execution_count": 46,
   "metadata": {},
   "outputs": [
    {
     "data": {
      "image/png": "[encoded data removed]",
      "text/plain": [
       "<Figure size 432x288 with 1 Axes>"
      ]
     },
     "metadata": {
      "needs_background": "light"
     },
     "output_type": "display_data"
    }
   ],
   "source": [
    "EAP_caps = [n for n in df[df['author']=='EAP'].caps]\n",
    "HPL_caps = [n for n in df[df['author']=='HPL'].caps]\n",
    "MWS_caps = [n for n in df[df['author']=='MWS'].caps]\n",
    "\n",
    "plt.figure()\n",
    "H = plt.hist([EAP_caps, HPL_caps, MWS_caps], label=labels, bins=[i for i in range(0, 10, 1)], density=True)\n",
    "leg = plt.legend(frameon=False)\n",
    "plt.title(\"Number of caps per sentence by author\")\n",
    "plt.show()"
   ]
  },
  {
   "cell_type": "code",
   "execution_count": 48,
   "metadata": {},
   "outputs": [
    {
     "data": {
      "image/png": "[encoded data removed]",
      "text/plain": [
       "<Figure size 432x288 with 1 Axes>"
      ]
     },
     "metadata": {
      "needs_background": "light"
     },
     "output_type": "display_data"
    }
   ],
   "source": [
    "EAP_caps_percent = [n*1000 for n in df[df['author']=='EAP'].caps_ratio]\n",
    "HPL_caps_percent = [n*1000 for n in df[df['author']=='HPL'].caps_ratio]\n",
    "MWS_caps_percent = [n*1000 for n in df[df['author']=='MWS'].caps_ratio]\n",
    "\n",
    "plt.figure()\n",
    "H = plt.hist([EAP_caps_percent, HPL_caps_percent, MWS_caps_percent], label=labels, bins=[i for i in range(0, 40, 1)], density=True)\n",
    "leg = plt.legend(frameon=False)\n",
    "\n",
    "plt.title(\"Ratio of caps:noncaps per sentence by author\")\n",
    "plt.show()"
   ]
  },
  {
   "cell_type": "code",
   "execution_count": 486,
   "metadata": {},
   "outputs": [
    {
     "name": "stdout",
     "output_type": "stream",
     "text": [
      "Number of capital letters by EAP: 17469\tRatio: 0.015547555369642706\n",
      "Number of capital letters by HPL: 13753\tRatio: 0.015660834136131854\n",
      "Number of capital letters by MWS: 13280\tRatio: 0.014487820630307473\n"
     ]
    }
   ],
   "source": [
    "for author in authors:\n",
    "    uppers = 0\n",
    "    total = 0\n",
    "    for t in df[df['author']==author].text:\n",
    "        total += len(t)\n",
    "        uppers += sum([l.isupper() for l in t])\n",
    "    print(\"Number of capital letters by {}: {}\\tRatio: {}\"\n",
    "          .format(author, uppers, uppers/total))"
   ]
  },
  {
   "cell_type": "code",
   "execution_count": 488,
   "metadata": {},
   "outputs": [
    {
     "name": "stdout",
     "output_type": "stream",
     "text": [
      "Average characters per word by EAP: 5.590114181944824\n",
      "Average characters per word by HPL: 5.605952084570159\n",
      "Average characters per word by MWS: 5.5315430571480295\n"
     ]
    }
   ],
   "source": [
    "for author in authors:\n",
    "    print(\"Average characters per word by {}: {}\"\n",
    "          .format(author, (sum([len(t) for t in df[df['author']==author].text])/\n",
    "                           (sum([len(t.split(\" \")) for t in df[df['author']==author].text])))))"
   ]
  },
  {
   "cell_type": "code",
   "execution_count": 489,
   "metadata": {},
   "outputs": [
    {
     "name": "stdout",
     "output_type": "stream",
     "text": [
      "Number of strings containing the word 'gods' by EAP: 4\n",
      "Number of strings containing the word 'gods' by HPL: 38\n",
      "Number of strings containing the word 'gods' by MWS: 3\n"
     ]
    }
   ],
   "source": [
    "for author in authors:\n",
    "    print(\"Number of strings containing the word 'gods' by {}: {}\".format(author, sum(['gods' in t for t in df[df['author']==author].text])))"
   ]
  },
  {
   "cell_type": "code",
   "execution_count": 490,
   "metadata": {},
   "outputs": [
    {
     "name": "stdout",
     "output_type": "stream",
     "text": [
      "Number of strings containing the word 'whence' by EAP: 9\n",
      "Number of strings containing the word 'whence' by HPL: 10\n",
      "Number of strings containing the word 'whence' by MWS: 8\n"
     ]
    }
   ],
   "source": [
    "for author in authors:\n",
    "    print(\"Number of strings containing the word 'whence' by {}: {}\".format(author, sum(['whence' in t.lower() for t in df[df['author']==author].text])))"
   ]
  },
  {
   "cell_type": "code",
   "execution_count": 491,
   "metadata": {},
   "outputs": [
    {
     "name": "stdout",
     "output_type": "stream",
     "text": [
      "Number of strings containing a semicolon by EAP: 1084\n",
      "Number of strings containing a semicolon by HPL: 1084\n",
      "Number of strings containing a semicolon by MWS: 1969\n"
     ]
    }
   ],
   "source": [
    "for author in authors:\n",
    "    print(\"Number of strings containing a semicolon by {}: {}\".format(author, sum([';' in t for t in df[df['author']==author].text])))"
   ]
  },
  {
   "cell_type": "code",
   "execution_count": 492,
   "metadata": {},
   "outputs": [
    {
     "name": "stdout",
     "output_type": "stream",
     "text": [
      "Number of strings containing quotation marks by EAP: 1326\n",
      "Number of strings containing quotation marks by HPL: 313\n",
      "Number of strings containing quotation marks by MWS: 788\n"
     ]
    }
   ],
   "source": [
    "for author in authors:\n",
    "    print(\"Number of strings containing quotation marks by {}: {}\".format(author, sum(['\\\"' in t for t in df[df['author']==author].text])))"
   ]
  },
  {
   "cell_type": "code",
   "execution_count": 493,
   "metadata": {},
   "outputs": [
    {
     "name": "stdout",
     "output_type": "stream",
     "text": [
      "Number of strings containing 'ae' by EAP: 67\n",
      "Number of strings containing 'ae' by HPL: 118\n",
      "Number of strings containing 'ae' by MWS: 33\n"
     ]
    }
   ],
   "source": [
    "for author in authors:\n",
    "    print(\"Number of strings containing 'ae' by {}: {}\".format(author, sum(['ae' in t for t in df[df['author']==author].text])))"
   ]
  },
  {
   "cell_type": "code",
   "execution_count": 93,
   "metadata": {
    "collapsed": true
   },
   "outputs": [],
   "source": [
    "from nltk import tokenize"
   ]
  },
  {
   "cell_type": "code",
   "execution_count": 282,
   "metadata": {},
   "outputs": [
    {
     "data": {
      "text/plain": [
       "['This', 'process', ',', 'however', ',', 'afforded', 'me', 'no', 'means', 'of']"
      ]
     },
     "execution_count": 282,
     "metadata": {},
     "output_type": "execute_result"
    }
   ],
   "source": [
    "tokenize.word_tokenize(df.text[0])[:10]"
   ]
  },
  {
   "cell_type": "code",
   "execution_count": 183,
   "metadata": {},
   "outputs": [
    {
     "data": {
      "text/plain": [
       "27575"
      ]
     },
     "execution_count": 183,
     "metadata": {},
     "output_type": "execute_result"
    }
   ],
   "source": [
    "n = 0\n",
    "len(lexicon)"
   ]
  },
  {
   "cell_type": "code",
   "execution_count": 316,
   "metadata": {},
   "outputs": [
    {
     "data": {
      "text/plain": [
       "367.6666666666667"
      ]
     },
     "execution_count": 316,
     "metadata": {},
     "output_type": "execute_result"
    }
   ],
   "source": [
    "len(lexicon)/75"
   ]
  },
  {
   "cell_type": "code",
   "execution_count": 184,
   "metadata": {
    "collapsed": true
   },
   "outputs": [],
   "source": [
    "from collections import Counter"
   ]
  },
  {
   "cell_type": "code",
   "execution_count": 285,
   "metadata": {},
   "outputs": [
    {
     "data": {
      "text/plain": [
       "[('``', 2762),\n",
       " ('the', 2225),\n",
       " (\"''\", 2207),\n",
       " ('one', 1623),\n",
       " ('upon', 1411),\n",
       " (\"'s\", 1355),\n",
       " ('could', 1330),\n",
       " ('would', 1258),\n",
       " ('it', 947),\n",
       " ('he', 900)]"
      ]
     },
     "execution_count": 285,
     "metadata": {},
     "output_type": "execute_result"
    }
   ],
   "source": [
    "wordcounts = Counter()\n",
    "for sentence in token_list:\n",
    "    wordcounts.update([t.lower() for t in sentence])\n",
    "wordcounts.most_common(10)"
   ]
  },
  {
   "cell_type": "code",
   "execution_count": 286,
   "metadata": {},
   "outputs": [
    {
     "data": {
      "text/plain": [
       "7227"
      ]
     },
     "execution_count": 286,
     "metadata": {},
     "output_type": "execute_result"
    }
   ],
   "source": [
    "wordlist = []\n",
    "for word, count in wordcounts.items():\n",
    "    if 5 < count < 200:\n",
    "        wordlist.append(word)\n",
    "len(wordlist)"
   ]
  },
  {
   "cell_type": "code",
   "execution_count": 287,
   "metadata": {},
   "outputs": [
    {
     "name": "stdout",
     "output_type": "stream",
     "text": [
      "invited: 9\n",
      "lighting: 6\n",
      "fro: 25\n",
      "springs: 8\n",
      "ninety: 8\n",
      "unnamable: 11\n",
      "securely: 12\n",
      "medical: 26\n",
      "ivy: 6\n",
      "stretch: 12\n"
     ]
    }
   ],
   "source": [
    "for word in wordlist[90:100]:\n",
    "    print(\"{}: {}\".format(word, wordcounts[word]))"
   ]
  },
  {
   "cell_type": "code",
   "execution_count": 342,
   "metadata": {},
   "outputs": [
    {
     "name": "stdout",
     "output_type": "stream",
     "text": [
      "\"The present peculiar condition of affairs at court, and especially of those intrigues in which D is known to be involved, would render the instant availability of the document its susceptibility of being produced at a moment's notice a point of nearly equal importance with its possession.\"\n",
      "\"And what about the window panes?\" \"They were all gone.\n",
      "\"But could not the cavity be detected by sounding?\"\n",
      "\"Everybody got aout o' the idee o' dyin' excep' in canoe wars with the other islanders, or as sacrifices to the sea gods daown below, or from snake bite or plague or sharp gallopin' ailments or somethin' afore they cud take to the water but simply looked forrad to a kind o' change that wa'n't a bit horrible arter a while.\n",
      "\"That is absolutely needless,\" replied G .\n",
      "\"Keep up the largest branch the one on this side,\" said Legrand.\n",
      "\"But, my dear fellow, you are joking then,\" said I, \"this is a very passable skull indeed, I may say that it is a very excellent skull, according to the vulgar notions about such specimens of physiology and your scarabæus must be the queerest scarabæus in the world if it resembles it.\n",
      "\"I believe, sir, you have forgotten to pay for your brandy and water.\"\n",
      "\"But that Kidd's accumulations were immense, is well known.\n",
      "\"Pierre Moreau, tobacconist, deposes that he has been in the habit of selling small quantities of tobacco and snuff to Madame L'Espanaye for nearly four years.\n",
      "\"Not so,\" said I, \"though I confess that my thoughts are not occupied as pleasantly as yours are.\n"
     ]
    }
   ],
   "source": [
    "bleh = 0\n",
    "for text in df.text:\n",
    "    if not text[0].isupper():\n",
    "        print(text)\n",
    "        bleh += 1\n",
    "    if bleh > 10:\n",
    "        break"
   ]
  },
  {
   "cell_type": "code",
   "execution_count": 494,
   "metadata": {},
   "outputs": [
    {
     "name": "stdout",
     "output_type": "stream",
     "text": [
      "Counter({'EAP': 793, 'MWS': 381, 'HPL': 167})\n"
     ]
    }
   ],
   "source": [
    "this = Counter()\n",
    "for n, text in enumerate(df.text):\n",
    "    if not text[0].isupper():\n",
    "        this[df.iloc[n].author] += 1\n",
    "print(this)"
   ]
  },
  {
   "cell_type": "code",
   "execution_count": 495,
   "metadata": {},
   "outputs": [],
   "source": [
    "def load_word_frequencies(filename):\n",
    "    data = []\n",
    "    with open(filename, 'r') as f:\n",
    "        for i, line in enumerate(f):\n",
    "            if i == 0:\n",
    "                continue\n",
    "            w, e, h, m = line.replace(\"\\\"\", \"\").replace(\"[\",\"\").replace(\"]\",\"\").replace(\" \",\"\").split(\",\")[1:]\n",
    "            data.append([w, float(e), float(h), float(m)])\n",
    "    return data\n",
    "            "
   ]
  },
  {
   "cell_type": "code",
   "execution_count": 396,
   "metadata": {},
   "outputs": [
    {
     "data": {
      "text/plain": [
       "['process',\n",
       " '2.363531447454906e-05',\n",
       " '2.5937991956721596e-05',\n",
       " '2.475704178849762e-05\\n']"
      ]
     },
     "execution_count": 396,
     "metadata": {},
     "output_type": "execute_result"
    }
   ],
   "source": [
    "line.replace(\"\\\"\", \"\").replace(\"[\",\"\").replace(\"]\",\"\").replace(\" \",\"\").split(\",\")[1:]"
   ]
  },
  {
   "cell_type": "code",
   "execution_count": 369,
   "metadata": {
    "collapsed": true
   },
   "outputs": [],
   "source": [
    "line = \"3,afforded,\\\"[4.5339866284683176e-05, 1.017405086465508e-05, 4.7641757670422327e-05]\\\"\""
   ]
  },
  {
   "cell_type": "code",
   "execution_count": 411,
   "metadata": {},
   "outputs": [],
   "source": [
    "columns = ['word', 'EAP_frequency', 'HPL_frequency', 'MWS_frequency']\n",
    "data = load_word_frequencies('lexicon_frequencies.csv')\n",
    "df_word_frequency = pd.DataFrame(data, columns=columns)"
   ]
  },
  {
   "cell_type": "code",
   "execution_count": 419,
   "metadata": {},
   "outputs": [
    {
     "data": {
      "text/html": [
       "<div>\n",
       "<style scoped>\n",
       "    .dataframe tbody tr th:only-of-type {\n",
       "        vertical-align: middle;\n",
       "    }\n",
       "\n",
       "    .dataframe tbody tr th {\n",
       "        vertical-align: top;\n",
       "    }\n",
       "\n",
       "    .dataframe thead th {\n",
       "        text-align: right;\n",
       "    }\n",
       "</style>\n",
       "<table border=\"1\" class=\"dataframe\">\n",
       "  <thead>\n",
       "    <tr style=\"text-align: right;\">\n",
       "      <th></th>\n",
       "      <th>word</th>\n",
       "      <th>EAP_frequency</th>\n",
       "      <th>MWS_frequency</th>\n",
       "      <th>HPL_frequency</th>\n",
       "    </tr>\n",
       "  </thead>\n",
       "  <tbody>\n",
       "    <tr>\n",
       "      <th>0</th>\n",
       "      <td>This</td>\n",
       "      <td>0.000640</td>\n",
       "      <td>0.000519</td>\n",
       "      <td>0.000715</td>\n",
       "    </tr>\n",
       "    <tr>\n",
       "      <th>1</th>\n",
       "      <td>process</td>\n",
       "      <td>0.000024</td>\n",
       "      <td>0.000026</td>\n",
       "      <td>0.000025</td>\n",
       "    </tr>\n",
       "    <tr>\n",
       "      <th>2</th>\n",
       "      <td>however</td>\n",
       "      <td>0.000477</td>\n",
       "      <td>0.000213</td>\n",
       "      <td>0.000470</td>\n",
       "    </tr>\n",
       "    <tr>\n",
       "      <th>3</th>\n",
       "      <td>afforded</td>\n",
       "      <td>0.000045</td>\n",
       "      <td>0.000010</td>\n",
       "      <td>0.000048</td>\n",
       "    </tr>\n",
       "    <tr>\n",
       "      <th>4</th>\n",
       "      <td>means</td>\n",
       "      <td>0.000270</td>\n",
       "      <td>0.000151</td>\n",
       "      <td>0.000275</td>\n",
       "    </tr>\n",
       "    <tr>\n",
       "      <th>5</th>\n",
       "      <td>ascertaining</td>\n",
       "      <td>0.000005</td>\n",
       "      <td>0.000001</td>\n",
       "      <td>0.000005</td>\n",
       "    </tr>\n",
       "    <tr>\n",
       "      <th>6</th>\n",
       "      <td>dimensions</td>\n",
       "      <td>0.000011</td>\n",
       "      <td>0.000004</td>\n",
       "      <td>0.000015</td>\n",
       "    </tr>\n",
       "    <tr>\n",
       "      <th>7</th>\n",
       "      <td>dungeon</td>\n",
       "      <td>0.000011</td>\n",
       "      <td>0.000004</td>\n",
       "      <td>0.000012</td>\n",
       "    </tr>\n",
       "    <tr>\n",
       "      <th>8</th>\n",
       "      <td>might</td>\n",
       "      <td>0.000818</td>\n",
       "      <td>0.000706</td>\n",
       "      <td>0.000810</td>\n",
       "    </tr>\n",
       "    <tr>\n",
       "      <th>9</th>\n",
       "      <td>make</td>\n",
       "      <td>0.000600</td>\n",
       "      <td>0.000663</td>\n",
       "      <td>0.000592</td>\n",
       "    </tr>\n",
       "    <tr>\n",
       "      <th>10</th>\n",
       "      <td>circuit</td>\n",
       "      <td>0.000010</td>\n",
       "      <td>0.000006</td>\n",
       "      <td>0.000009</td>\n",
       "    </tr>\n",
       "    <tr>\n",
       "      <th>11</th>\n",
       "      <td>return</td>\n",
       "      <td>0.000244</td>\n",
       "      <td>0.000153</td>\n",
       "      <td>0.000241</td>\n",
       "    </tr>\n",
       "    <tr>\n",
       "      <th>12</th>\n",
       "      <td>point</td>\n",
       "      <td>0.000182</td>\n",
       "      <td>0.000196</td>\n",
       "      <td>0.000179</td>\n",
       "    </tr>\n",
       "    <tr>\n",
       "      <th>13</th>\n",
       "      <td>whence</td>\n",
       "      <td>0.000053</td>\n",
       "      <td>0.000020</td>\n",
       "      <td>0.000069</td>\n",
       "    </tr>\n",
       "    <tr>\n",
       "      <th>14</th>\n",
       "      <td>set</td>\n",
       "      <td>0.000288</td>\n",
       "      <td>0.000303</td>\n",
       "      <td>0.000296</td>\n",
       "    </tr>\n",
       "    <tr>\n",
       "      <th>15</th>\n",
       "      <td>without</td>\n",
       "      <td>0.000770</td>\n",
       "      <td>0.000578</td>\n",
       "      <td>0.000801</td>\n",
       "    </tr>\n",
       "    <tr>\n",
       "      <th>16</th>\n",
       "      <td>aware</td>\n",
       "      <td>0.000069</td>\n",
       "      <td>0.000065</td>\n",
       "      <td>0.000055</td>\n",
       "    </tr>\n",
       "    <tr>\n",
       "      <th>17</th>\n",
       "      <td>fact</td>\n",
       "      <td>0.000147</td>\n",
       "      <td>0.000244</td>\n",
       "      <td>0.000116</td>\n",
       "    </tr>\n",
       "    <tr>\n",
       "      <th>18</th>\n",
       "      <td>perfectly</td>\n",
       "      <td>0.000078</td>\n",
       "      <td>0.000074</td>\n",
       "      <td>0.000070</td>\n",
       "    </tr>\n",
       "    <tr>\n",
       "      <th>19</th>\n",
       "      <td>uniform</td>\n",
       "      <td>0.000017</td>\n",
       "      <td>0.000024</td>\n",
       "      <td>0.000017</td>\n",
       "    </tr>\n",
       "    <tr>\n",
       "      <th>20</th>\n",
       "      <td>seemed</td>\n",
       "      <td>0.000352</td>\n",
       "      <td>0.000546</td>\n",
       "      <td>0.000332</td>\n",
       "    </tr>\n",
       "    <tr>\n",
       "      <th>21</th>\n",
       "      <td>wall</td>\n",
       "      <td>0.000085</td>\n",
       "      <td>0.000118</td>\n",
       "      <td>0.000086</td>\n",
       "    </tr>\n",
       "  </tbody>\n",
       "</table>\n",
       "</div>"
      ],
      "text/plain": [
       "            word  EAP_frequency  MWS_frequency  HPL_frequency\n",
       "0           This       0.000640       0.000519       0.000715\n",
       "1        process       0.000024       0.000026       0.000025\n",
       "2        however       0.000477       0.000213       0.000470\n",
       "3       afforded       0.000045       0.000010       0.000048\n",
       "4          means       0.000270       0.000151       0.000275\n",
       "5   ascertaining       0.000005       0.000001       0.000005\n",
       "6     dimensions       0.000011       0.000004       0.000015\n",
       "7        dungeon       0.000011       0.000004       0.000012\n",
       "8          might       0.000818       0.000706       0.000810\n",
       "9           make       0.000600       0.000663       0.000592\n",
       "10       circuit       0.000010       0.000006       0.000009\n",
       "11        return       0.000244       0.000153       0.000241\n",
       "12         point       0.000182       0.000196       0.000179\n",
       "13        whence       0.000053       0.000020       0.000069\n",
       "14           set       0.000288       0.000303       0.000296\n",
       "15       without       0.000770       0.000578       0.000801\n",
       "16         aware       0.000069       0.000065       0.000055\n",
       "17          fact       0.000147       0.000244       0.000116\n",
       "18     perfectly       0.000078       0.000074       0.000070\n",
       "19       uniform       0.000017       0.000024       0.000017\n",
       "20        seemed       0.000352       0.000546       0.000332\n",
       "21          wall       0.000085       0.000118       0.000086"
      ]
     },
     "execution_count": 419,
     "metadata": {},
     "output_type": "execute_result"
    }
   ],
   "source": [
    "df_word_frequency"
   ]
  },
  {
   "cell_type": "code",
   "execution_count": 413,
   "metadata": {},
   "outputs": [
    {
     "data": {
      "text/plain": [
       "(22, 3)"
      ]
     },
     "execution_count": 413,
     "metadata": {},
     "output_type": "execute_result"
    }
   ],
   "source": [
    "this = pd.read_csv('lexicon_frequencies.csv')\n",
    "this.shape"
   ]
  },
  {
   "cell_type": "code",
   "execution_count": 499,
   "metadata": {},
   "outputs": [],
   "source": [
    "random = df.iloc[4898]"
   ]
  },
  {
   "cell_type": "code",
   "execution_count": 469,
   "metadata": {},
   "outputs": [],
   "source": [
    "def get_sentence_probability(sentence):\n",
    "    a, b, c = 0, 0, 0\n",
    "    for word in tokenize.word_tokenize(sentence):\n",
    "        if word.lower() in list(df_word_frequency.word):\n",
    "            log_probs = [math.log(v) for v in df_word_frequency.loc[word.lower()][1:]]\n",
    "            a += log_probs[0]\n",
    "            b += log_probs[1]\n",
    "            c += log_probs[2] \n",
    "    return (a, b, c)"
   ]
  },
  {
   "cell_type": "code",
   "execution_count": 449,
   "metadata": {},
   "outputs": [],
   "source": [
    "df_word_frequency.index = df_word_frequency.word"
   ]
  },
  {
   "cell_type": "code",
   "execution_count": 502,
   "metadata": {},
   "outputs": [],
   "source": [
    "probs = [v for v in df_word_frequency.loc['process']][1:]"
   ]
  },
  {
   "cell_type": "code",
   "execution_count": 509,
   "metadata": {},
   "outputs": [
    {
     "data": {
      "text/plain": [
       "[0.317976641313019, 0.34895560935665504, 0.33306774933032596]"
      ]
     },
     "execution_count": 509,
     "metadata": {},
     "output_type": "execute_result"
    }
   ],
   "source": [
    "[probs[i]/sum(probs) for i in range(3)]"
   ]
  },
  {
   "cell_type": "code",
   "execution_count": 496,
   "metadata": {},
   "outputs": [
    {
     "name": "stdout",
     "output_type": "stream",
     "text": [
      "7703 19579\n"
     ]
    }
   ],
   "source": [
    "counter = 0\n",
    "for i in range(df.shape[0]):\n",
    "    line = df.iloc[i]\n",
    "    p = get_sentence_probability(line.text)\n",
    "    if (np.argmax(p) == 0 and line.author == 'EAP') or (np.argmax(p) == 1 and line.author == 'HPL') or (np.argmax(p) == 2 and line.author == 'MWS'):\n",
    "        counter += 1\n",
    "print(counter, df.shape[0])\n"
   ]
  },
  {
   "cell_type": "code",
   "execution_count": 461,
   "metadata": {
    "collapsed": true
   },
   "outputs": [],
   "source": [
    "import math "
   ]
  },
  {
   "cell_type": "code",
   "execution_count": 510,
   "metadata": {
    "collapsed": true
   },
   "outputs": [],
   "source": [
    "def predict(sentence):\n",
    "    probs = get_sentence_probability(sentence)\n",
    "    print(probs, np.argmin(probs), authors[np.argmin(probs)])\n",
    "    return authors[np.argmin(probs)]"
   ]
  },
  {
   "cell_type": "code",
   "execution_count": 511,
   "metadata": {
    "collapsed": true
   },
   "outputs": [],
   "source": [
    "def predict_with_probs(sentence):\n",
    "    probs = get_sentence_probability(sentence)\n",
    "    if sum(probs) == 0:\n",
    "        return None\n",
    "    probs = [probs[i]/sum(probs) for i in range(3)]\n",
    "    return (authors[np.argmin(probs)], probs)"
   ]
  },
  {
   "cell_type": "code",
   "execution_count": null,
   "metadata": {
    "collapsed": true
   },
   "outputs": [],
   "source": [
    "def s(i):\n",
    "    r = df.iloc[i]\n",
    "    print(predict_with_probs(r.text), r.author)"
   ]
  },
  {
   "cell_type": "code",
   "execution_count": null,
   "metadata": {},
   "outputs": [],
   "source": [
    "df['chars_ratio'] = df['text'].apply(lambda x: len(chars_regex.findall(x))/len(x))\n",
    "df['caps_ratio'] = df['text'].apply(lambda x: len(cap_regex.findall(x))/len(x))"
   ]
  }
 ],
 "metadata": {
  "anaconda-cloud": {},
  "kernelspec": {
   "display_name": "Python (keras)",
   "language": "python",
   "name": "keras"
  },
  "language_info": {
   "codemirror_mode": {
    "name": "ipython",
    "version": 3
   },
   "file_extension": ".py",
   "mimetype": "text/x-python",
   "name": "python",
   "nbconvert_exporter": "python",
   "pygments_lexer": "ipython3",
   "version": "3.6.9"
  },
  "varInspector": {
   "cols": {
    "lenName": 16.0,
    "lenType": 16.0,
    "lenVar": 40.0
   },
   "kernels_config": {
    "python": {
     "delete_cmd_postfix": "",
     "delete_cmd_prefix": "del ",
     "library": "var_list.py",
     "varRefreshCmd": "print(var_dic_list())"
    },
    "r": {
     "delete_cmd_postfix": ") ",
     "delete_cmd_prefix": "rm(",
     "library": "var_list.r",
     "varRefreshCmd": "cat(var_dic_list()) "
    }
   },
   "position": {
    "height": "144.86px",
    "left": "1651.05px",
    "right": "20px",
    "top": "119px",
    "width": "350px"
   },
   "types_to_exclude": [
    "module",
    "function",
    "builtin_function_or_method",
    "instance",
    "_Feature"
   ],
   "window_display": false
  }
 },
 "nbformat": 4,
 "nbformat_minor": 2
}
