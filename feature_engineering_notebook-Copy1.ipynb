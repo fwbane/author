{
 "cells": [
  {
   "cell_type": "code",
   "execution_count": 35,
   "metadata": {
    "collapsed": true
   },
   "outputs": [],
   "source": [
    "import requests\n",
    "import time\n",
    "import re\n",
    "import pandas as pd\n",
    "from collections import Counter\n",
    "from nltk import tokenize"
   ]
  },
  {
   "cell_type": "code",
   "execution_count": 36,
   "metadata": {
    "collapsed": true
   },
   "outputs": [],
   "source": [
    "EAP_start = 1827\n",
    "EAP_end = 1849\n",
    "EAP_major_works = [1831, 1839, 1843, 1845, 1846, 1849]\n",
    "HPL_start = 1910\n",
    "HPL_end = 1943\n",
    "HPL_major_works = [1928, 1936, 1943]\n",
    "MWS_start = 1818\n",
    "MWS_end = 1837\n",
    "MWS_major_works = [1818, 1823, 1826, 1830, 1835, 1837]"
   ]
  },
  {
   "cell_type": "code",
   "execution_count": 37,
   "metadata": {
    "collapsed": false
   },
   "outputs": [],
   "source": [
    "import nltk\n",
    "from nltk.corpus import stopwords"
   ]
  },
  {
   "cell_type": "code",
   "execution_count": 39,
   "metadata": {
    "collapsed": false
   },
   "outputs": [],
   "source": [
    "df = pd.read_csv('train.csv', index_col='id')\n"
   ]
  },
  {
   "cell_type": "code",
   "execution_count": 126,
   "metadata": {
    "collapsed": true
   },
   "outputs": [],
   "source": [
    "df2 = pd.read_csv('train.csv', index_col='id')"
   ]
  },
  {
   "cell_type": "code",
   "execution_count": 40,
   "metadata": {
    "collapsed": false
   },
   "outputs": [],
   "source": [
    "ngram_data_regex = re.compile(r'imeseries\\\": \\[(\\d|\\.|\\s|,|e|-)*\\]')"
   ]
  },
  {
   "cell_type": "code",
   "execution_count": 41,
   "metadata": {
    "collapsed": true
   },
   "outputs": [],
   "source": [
    "def get_ngram_frequency_from_request(request, regex):\n",
    "    results = []\n",
    "    frequencies = regex.search(request.text).group()\n",
    "    frequencies = frequencies[13:-1]\n",
    "    frequencies = frequencies.split(\", \")\n",
    "    frequencies = [float(f) for f in frequencies]\n",
    "    results.append(np.mean([f for f in frequencies[EAP_start-1818:EAP_end-1818] if f>0]))\n",
    "    results.append(np.mean([f for f in frequencies[HPL_start-1818:HPL_end-1818] if f>0]))\n",
    "    results.append(np.mean([f for f in frequencies[MWS_start-1818:MWS_end-1818] if f>0]))\n",
    "    return results"
   ]
  },
  {
   "cell_type": "code",
   "execution_count": 42,
   "metadata": {
    "collapsed": false
   },
   "outputs": [],
   "source": [
    "token_list = []\n",
    "stopWords = set(stopwords.words('english'))\n",
    "for sentence in df.text:\n",
    "    tokens = tokenize.word_tokenize(sentence)\n",
    "    tokens = [t for t in tokens if len(t)>1 and t not in stopWords]\n",
    "    token_list.append(tokens)"
   ]
  },
  {
   "cell_type": "code",
   "execution_count": 43,
   "metadata": {
    "collapsed": false
   },
   "outputs": [],
   "source": [
    "lexicon = set()\n",
    "for sentence in token_list:\n",
    "    lexicon.update(sentence)"
   ]
  },
  {
   "cell_type": "code",
   "execution_count": 44,
   "metadata": {
    "collapsed": false
   },
   "outputs": [
    {
     "data": {
      "text/plain": [
       "27575"
      ]
     },
     "execution_count": 44,
     "metadata": {},
     "output_type": "execute_result"
    }
   ],
   "source": [
    "len(lexicon)"
   ]
  },
  {
   "cell_type": "code",
   "execution_count": 45,
   "metadata": {
    "collapsed": false
   },
   "outputs": [],
   "source": [
    "lexicons = []\n",
    "for author in ['EAP', 'HPL', 'MWS']:\n",
    "    author_lexicon = set()\n",
    "    for sentence in df[df['author']==author].text:\n",
    "        tokens = tokenize.word_tokenize(sentence)\n",
    "        tokens = [t.lower() for t in tokens if len(t)>1 and t not in stopWords]\n",
    "        author_lexicon.update(tokens)\n",
    "    lexicons.append(author_lexicon)"
   ]
  },
  {
   "cell_type": "code",
   "execution_count": 46,
   "metadata": {
    "collapsed": false
   },
   "outputs": [],
   "source": [
    "EAP_lexicon, HPL_lexicon, MWS_lexicon = lexicons"
   ]
  },
  {
   "cell_type": "code",
   "execution_count": 47,
   "metadata": {
    "collapsed": false
   },
   "outputs": [
    {
     "name": "stdout",
     "output_type": "stream",
     "text": [
      "15443 14495 11536\n"
     ]
    }
   ],
   "source": [
    "print(len(EAP_lexicon), len(HPL_lexicon), len(MWS_lexicon))"
   ]
  },
  {
   "cell_type": "code",
   "execution_count": 48,
   "metadata": {
    "collapsed": false
   },
   "outputs": [
    {
     "data": {
      "text/plain": [
       "3003"
      ]
     },
     "execution_count": 48,
     "metadata": {},
     "output_type": "execute_result"
    }
   ],
   "source": [
    "MWS_unique_words = MWS_lexicon.difference(HPL_lexicon.union(EAP_lexicon))\n",
    "len(MWS_unique_words)"
   ]
  },
  {
   "cell_type": "code",
   "execution_count": 49,
   "metadata": {
    "collapsed": false
   },
   "outputs": [
    {
     "data": {
      "text/plain": [
       "5584"
      ]
     },
     "execution_count": 49,
     "metadata": {},
     "output_type": "execute_result"
    }
   ],
   "source": [
    "HPL_unique_words = HPL_lexicon.difference(MWS_lexicon.union(EAP_lexicon))\n",
    "len(HPL_unique_words)"
   ]
  },
  {
   "cell_type": "code",
   "execution_count": 50,
   "metadata": {
    "collapsed": false
   },
   "outputs": [
    {
     "data": {
      "text/plain": [
       "5882"
      ]
     },
     "execution_count": 50,
     "metadata": {},
     "output_type": "execute_result"
    }
   ],
   "source": [
    "EAP_unique_words = EAP_lexicon.difference(HPL_lexicon.union(MWS_lexicon))\n",
    "len(EAP_unique_words)"
   ]
  },
  {
   "cell_type": "code",
   "execution_count": null,
   "metadata": {
    "collapsed": true
   },
   "outputs": [],
   "source": []
  },
  {
   "cell_type": "code",
   "execution_count": 114,
   "metadata": {
    "collapsed": false
   },
   "outputs": [
    {
     "name": "stdout",
     "output_type": "stream",
     "text": [
      "fastening 1 6\n",
      "eave 1 344\n",
      "bug 29 26\n",
      "'wery 1 0\n",
      "strived 1 1\n",
      "fairies 2 1\n",
      "doux 2 2\n",
      "saucer 1 2\n",
      "perseveringly 2 2\n",
      "editors 2 8\n",
      "predicate 1 1\n",
      "esquimau 1 0\n",
      "cimabué 1 0\n",
      "chateaubriand 1 0\n",
      "stables 6 7\n",
      "sacks 1 1\n",
      "morto 1 2\n",
      "riper 1 1\n",
      "assumes 2 2\n",
      "waker 9 9\n"
     ]
    }
   ],
   "source": [
    "# POP method is destructive - removes and returns the items from the set. Re-run above three cells after experimentation\n",
    "for i in range(20):\n",
    "    word = EAP_unique_words.pop()\n",
    "    print(word, wordcounts[word], sum([word in text for text in df.text]))"
   ]
  },
  {
   "cell_type": "code",
   "execution_count": 52,
   "metadata": {
    "collapsed": true
   },
   "outputs": [],
   "source": [
    "def get_lexicon_frequencies(lexicon):\n",
    "    lexicon_frequencies = []\n",
    "    error_counter = 0\n",
    "    sleep_time = 1\n",
    "    BASEURL = \"https://books.google.com/ngrams/graph?content={}&year_start=1818&year_end=1943&corpus=16&smoothing=0\"\n",
    "    for n, word in enumerate(lexicon):\n",
    "        if n%1378 == 1:\n",
    "            print(\"{}% done!\".format(round(len(lexicon)/n), 2))\n",
    "        if error_counter > 8:\n",
    "            print(\"too many errors. Sleep time = {}\".format(sleep_time))\n",
    "            break\n",
    "        request = requests.get(BASEURL.format(word))\n",
    "        if request.status_code != 200:\n",
    "            error_counter += 1\n",
    "            time.sleep(sleep_time)\n",
    "            request = requests.get(BASEURL.format(word))\n",
    "            if request.status_code != 200:\n",
    "                error_counter += 1\n",
    "                print(\"two consecutive errors\")\n",
    "                print(request.status_code, request.text)\n",
    "                time.sleep(300)\n",
    "                sleep_time *= 2\n",
    "        ngram_frequencies = get_ngram_frequency_from_request(request, ngram_data_regex)\n",
    "        lexicon_frequencies.append((word, ngram_frequencies))\n",
    "        time.sleep(sleep_time)\n",
    "    return lexicon_frequencies"
   ]
  },
  {
   "cell_type": "code",
   "execution_count": 59,
   "metadata": {
    "collapsed": false
   },
   "outputs": [
    {
     "ename": "NameError",
     "evalue": "name 'lexicon_frequencies' is not defined",
     "output_type": "error",
     "traceback": [
      "\u001b[1;31m---------------------------------------------------------------------------\u001b[0m",
      "\u001b[1;31mNameError\u001b[0m                                 Traceback (most recent call last)",
      "\u001b[1;32m<ipython-input-59-902631fc68df>\u001b[0m in \u001b[0;36m<module>\u001b[1;34m()\u001b[0m\n\u001b[1;32m----> 1\u001b[1;33m \u001b[0mlen\u001b[0m\u001b[1;33m(\u001b[0m\u001b[0mlexicon_frequencies\u001b[0m\u001b[1;33m)\u001b[0m\u001b[1;33m\u001b[0m\u001b[0m\n\u001b[0m",
      "\u001b[1;31mNameError\u001b[0m: name 'lexicon_frequencies' is not defined"
     ]
    }
   ],
   "source": []
  },
  {
   "cell_type": "code",
   "execution_count": null,
   "metadata": {
    "collapsed": false
   },
   "outputs": [],
   "source": [
    "import string\n",
    "from nltk.corpus import stopwords\n",
    "string.punctuation"
   ]
  },
  {
   "cell_type": "code",
   "execution_count": 60,
   "metadata": {
    "collapsed": false
   },
   "outputs": [
    {
     "data": {
      "text/plain": [
       "1818"
      ]
     },
     "execution_count": 60,
     "metadata": {},
     "output_type": "execute_result"
    }
   ],
   "source": [
    "min(min(EAP_major_works), min(MWS_major_works), min(HPL_major_works))"
   ]
  },
  {
   "cell_type": "code",
   "execution_count": 68,
   "metadata": {
    "collapsed": false
   },
   "outputs": [
    {
     "data": {
      "text/plain": [
       "1943"
      ]
     },
     "execution_count": 68,
     "metadata": {},
     "output_type": "execute_result"
    }
   ],
   "source": [
    "max(max(EAP_major_works), max(MWS_major_works), max(HPL_major_works))"
   ]
  },
  {
   "cell_type": "code",
   "execution_count": 69,
   "metadata": {
    "collapsed": true
   },
   "outputs": [],
   "source": [
    "authors = ['EAP', 'HPL', 'MWS']"
   ]
  },
  {
   "cell_type": "code",
   "execution_count": 70,
   "metadata": {
    "collapsed": false
   },
   "outputs": [
    {
     "name": "stdout",
     "output_type": "stream",
     "text": [
      "Average length of sentences by EAP: 142.22594936708862\n",
      "Average length of sentences by HPL: 155.84347826086957\n",
      "Average length of sentences by MWS: 151.65982792852415\n"
     ]
    }
   ],
   "source": [
    "for author in authors:\n",
    "    print(\"Average length of sentences by {}: {}\".format(author, np.mean([len(t) for t in df[df['author']==author].text])))"
   ]
  },
  {
   "cell_type": "code",
   "execution_count": 71,
   "metadata": {
    "collapsed": false
   },
   "outputs": [
    {
     "name": "stdout",
     "output_type": "stream",
     "text": [
      "Number of strings by EAP: 7900\n",
      "Number of words by EAP: 200995\n",
      "Average words per string: 25.44240506329114\n",
      "Number of strings by HPL: 5635\n",
      "Number of words by HPL: 156651\n",
      "Average words per string: 27.799645075421473\n",
      "Number of strings by MWS: 6044\n",
      "Number of words by MWS: 165710\n",
      "Average words per string: 27.417273328921244\n"
     ]
    }
   ],
   "source": [
    "for author in authors:\n",
    "    print(\"Number of strings by {}: {}\".format(author, df[df['author']==author].shape[0]))\n",
    "    print(\"Number of words by {}: {}\".format(author, sum([len(t.split(\" \")) for t in df[df['author']==author].text])))\n",
    "    print(\"Average words per string: {}\".format((sum([len(t.split(\" \")) for t in df[df['author']==author].text]))/df[df['author']==author].shape[0]))"
   ]
  },
  {
   "cell_type": "code",
   "execution_count": 72,
   "metadata": {
    "collapsed": true
   },
   "outputs": [],
   "source": [
    "EAP_strings, MWS_strings, HPL_strings = 7900, 6044, 5635\n",
    "EAP_words, MWS_words, HPL_words = 200995, 165710, 156651"
   ]
  },
  {
   "cell_type": "code",
   "execution_count": 73,
   "metadata": {
    "collapsed": true
   },
   "outputs": [],
   "source": [
    "string_ratios = np.asarray([EAP_strings, HPL_strings, MWS_strings])/(EAP_strings + HPL_strings + MWS_strings)"
   ]
  },
  {
   "cell_type": "code",
   "execution_count": 74,
   "metadata": {
    "collapsed": false
   },
   "outputs": [
    {
     "data": {
      "text/plain": [
       "array([0.40349354, 0.28780837, 0.30869809])"
      ]
     },
     "execution_count": 74,
     "metadata": {},
     "output_type": "execute_result"
    }
   ],
   "source": [
    "string_ratios"
   ]
  },
  {
   "cell_type": "code",
   "execution_count": 75,
   "metadata": {
    "collapsed": true
   },
   "outputs": [],
   "source": [
    "word_ratios = np.asarray([EAP_words, HPL_words, MWS_words])/(EAP_words + HPL_words + MWS_words)"
   ]
  },
  {
   "cell_type": "code",
   "execution_count": 76,
   "metadata": {
    "collapsed": false,
    "scrolled": true
   },
   "outputs": [
    {
     "data": {
      "text/plain": [
       "array([0.38405024, 0.29932016, 0.3166296 ])"
      ]
     },
     "execution_count": 76,
     "metadata": {},
     "output_type": "execute_result"
    }
   ],
   "source": [
    "word_ratios"
   ]
  },
  {
   "cell_type": "code",
   "execution_count": 161,
   "metadata": {
    "collapsed": false
   },
   "outputs": [
    {
     "data": {
      "image/png": "[encoded data removed]",
      "text/plain": [
       "<Figure size 432x288 with 1 Axes>"
      ]
     },
     "metadata": {
      "needs_background": "light"
     },
     "output_type": "display_data"
    }
   ],
   "source": [
    "import matplotlib.pyplot as plt\n",
    "\n",
    "EAP_sentence_lengths = [len(t) for t in df[df['author']=='EAP'].text]\n",
    "HPL_sentence_lengths = [len(t) for t in df[df['author']=='HPL'].text]\n",
    "MWS_sentence_lengths = [len(t) for t in df[df['author']=='MWS'].text]\n",
    "labels = ['EAP', 'HPL', 'MWS']\n",
    "\n",
    "plt.figure()\n",
    "H = plt.hist([EAP_sentence_lengths, HPL_sentence_lengths, MWS_sentence_lengths], label=labels, bins=[i for i in range(0, 400, 30)])\n",
    "leg = plt.legend(frameon=False)\n",
    "plt.title(\"Sentence lengths of the three authors\")\n",
    "plt.show()"
   ]
  },
  {
   "cell_type": "code",
   "execution_count": 78,
   "metadata": {
    "collapsed": false
   },
   "outputs": [
    {
     "ename": "NameError",
     "evalue": "name 'EAP_word_counts' is not defined",
     "output_type": "error",
     "traceback": [
      "\u001b[1;31m---------------------------------------------------------------------------\u001b[0m",
      "\u001b[1;31mNameError\u001b[0m                                 Traceback (most recent call last)",
      "\u001b[1;32m<ipython-input-78-053336897877>\u001b[0m in \u001b[0;36m<module>\u001b[1;34m()\u001b[0m\n\u001b[0;32m      1\u001b[0m \u001b[0mplt\u001b[0m\u001b[1;33m.\u001b[0m\u001b[0mfigure\u001b[0m\u001b[1;33m(\u001b[0m\u001b[1;33m)\u001b[0m\u001b[1;33m\u001b[0m\u001b[0m\n\u001b[1;32m----> 2\u001b[1;33m \u001b[0mH\u001b[0m \u001b[1;33m=\u001b[0m \u001b[0mplt\u001b[0m\u001b[1;33m.\u001b[0m\u001b[0mhist\u001b[0m\u001b[1;33m(\u001b[0m\u001b[1;33m[\u001b[0m\u001b[0mEAP_word_counts\u001b[0m\u001b[1;33m,\u001b[0m \u001b[0mHPL_word_counts\u001b[0m\u001b[1;33m,\u001b[0m \u001b[0mMWS_word_counts\u001b[0m\u001b[1;33m]\u001b[0m\u001b[1;33m,\u001b[0m \u001b[0mlabel\u001b[0m\u001b[1;33m=\u001b[0m\u001b[0mlabels\u001b[0m\u001b[1;33m,\u001b[0m \u001b[0mbins\u001b[0m\u001b[1;33m=\u001b[0m\u001b[1;33m[\u001b[0m\u001b[0mi\u001b[0m \u001b[1;32mfor\u001b[0m \u001b[0mi\u001b[0m \u001b[1;32min\u001b[0m \u001b[0mrange\u001b[0m\u001b[1;33m(\u001b[0m\u001b[1;36m0\u001b[0m\u001b[1;33m,\u001b[0m \u001b[1;36m60\u001b[0m\u001b[1;33m,\u001b[0m \u001b[1;36m3\u001b[0m\u001b[1;33m)\u001b[0m\u001b[1;33m]\u001b[0m\u001b[1;33m)\u001b[0m\u001b[1;33m\u001b[0m\u001b[0m\n\u001b[0m\u001b[0;32m      3\u001b[0m \u001b[0mleg\u001b[0m \u001b[1;33m=\u001b[0m \u001b[0mplt\u001b[0m\u001b[1;33m.\u001b[0m\u001b[0mlegend\u001b[0m\u001b[1;33m(\u001b[0m\u001b[0mframeon\u001b[0m\u001b[1;33m=\u001b[0m\u001b[1;32mFalse\u001b[0m\u001b[1;33m)\u001b[0m\u001b[1;33m\u001b[0m\u001b[0m\n\u001b[0;32m      4\u001b[0m \u001b[0mplt\u001b[0m\u001b[1;33m.\u001b[0m\u001b[0mtitle\u001b[0m\u001b[1;33m(\u001b[0m\u001b[1;34m\"Words per sentence of the three authors\"\u001b[0m\u001b[1;33m)\u001b[0m\u001b[1;33m\u001b[0m\u001b[0m\n\u001b[0;32m      5\u001b[0m \u001b[0mplt\u001b[0m\u001b[1;33m.\u001b[0m\u001b[0mshow\u001b[0m\u001b[1;33m(\u001b[0m\u001b[1;33m)\u001b[0m\u001b[1;33m\u001b[0m\u001b[0m\n",
      "\u001b[1;31mNameError\u001b[0m: name 'EAP_word_counts' is not defined"
     ]
    },
    {
     "data": {
      "text/plain": [
       "<Figure size 432x288 with 0 Axes>"
      ]
     },
     "metadata": {},
     "output_type": "display_data"
    }
   ],
   "source": [
    "plt.figure()\n",
    "H = plt.hist([EAP_word_counts, HPL_word_counts, MWS_word_counts], label=labels, bins=[i for i in range(0, 60, 3)])\n",
    "leg = plt.legend(frameon=False)\n",
    "plt.title(\"Words per sentence of the three authors\")\n",
    "plt.show()"
   ]
  },
  {
   "cell_type": "code",
   "execution_count": null,
   "metadata": {
    "collapsed": false
   },
   "outputs": [],
   "source": [
    "for author in authors:\n",
    "    uppers = 0\n",
    "    total = 0\n",
    "    for t in df[df['author']==author].text:\n",
    "        total += len(t)\n",
    "        uppers += sum([l.isupper() for l in t])\n",
    "    print(\"Number of capital letters by {}: {}\\tRatio: {}\"\n",
    "          .format(author, uppers, uppers/total))"
   ]
  },
  {
   "cell_type": "code",
   "execution_count": null,
   "metadata": {
    "collapsed": false
   },
   "outputs": [],
   "source": [
    "for author in authors:\n",
    "    print(\"Average characters per word by {}: {}\"\n",
    "          .format(author, (sum([len(t) for t in df[df['author']==author].text])/\n",
    "                           (sum([len(t.split(\" \")) for t in df[df['author']==author].text])))))"
   ]
  },
  {
   "cell_type": "code",
   "execution_count": 133,
   "metadata": {
    "collapsed": false
   },
   "outputs": [
    {
     "name": "stdout",
     "output_type": "stream",
     "text": [
      "Number of strings containing the word 'l'' by EAP: 165\n",
      "Number of strings containing the word 'l'' by HPL: 46\n",
      "Number of strings containing the word 'l'' by MWS: 306\n"
     ]
    }
   ],
   "source": [
    "for author in authors:\n",
    "    print(\"Number of strings containing the word 'l\\'' by {}: {}\".format(author, sum([':' in t for t in df2[df2['author']==author].text])))"
   ]
  },
  {
   "cell_type": "code",
   "execution_count": 147,
   "metadata": {
    "collapsed": false
   },
   "outputs": [
    {
     "data": {
      "text/plain": [
       "['á']"
      ]
     },
     "execution_count": 147,
     "metadata": {},
     "output_type": "execute_result"
    }
   ],
   "source": [
    "chars = re.compile(r'[à|â|æ|ç|è|ë|ê|ï|î|ô|œ|ÿ|û|ù|á|é|í|ó|ú|ü]')\n",
    "chars.findall(\"flimflám\")"
   ]
  },
  {
   "cell_type": "code",
   "execution_count": 171,
   "metadata": {
    "collapsed": false
   },
   "outputs": [
    {
     "name": "stdout",
     "output_type": "stream",
     "text": [
      "Number of strings containing accented characters by EAP: 116\n",
      "Number of strings containing accented characters by HPL: 52\n",
      "Number of strings containing accented characters by MWS: 0\n"
     ]
    }
   ],
   "source": [
    "for author in authors:\n",
    "    print(\"Number of strings containing accented characters by {}: {}\".format(author, sum([1 for c in [chars.search(t.lower()) for t in df[df['author']==author].text] if c])))"
   ]
  },
  {
   "cell_type": "code",
   "execution_count": 158,
   "metadata": {
    "collapsed": false
   },
   "outputs": [
    {
     "data": {
      "text/plain": [
       "116"
      ]
     },
     "execution_count": 158,
     "metadata": {},
     "output_type": "execute_result"
    }
   ],
   "source": [
    "sum([1 for c in [chars.findall(t) for t in df2[df2['author']=='EAP'].text] if c])"
   ]
  },
  {
   "cell_type": "code",
   "execution_count": 80,
   "metadata": {
    "collapsed": false
   },
   "outputs": [
    {
     "name": "stdout",
     "output_type": "stream",
     "text": [
      "Number of strings containing the word 'whence' by EAP: 9\n",
      "Number of strings containing the word 'whence' by HPL: 10\n",
      "Number of strings containing the word 'whence' by MWS: 8\n"
     ]
    }
   ],
   "source": [
    "for author in authors:\n",
    "    print(\"Number of strings containing the word 'whence' by {}: {}\".format(author, sum(['whence' in t.lower() for t in df[df['author']==author].text])))"
   ]
  },
  {
   "cell_type": "code",
   "execution_count": 174,
   "metadata": {
    "collapsed": false
   },
   "outputs": [
    {
     "name": "stdout",
     "output_type": "stream",
     "text": [
      "Number of strings containing ! by EAP: 0\n",
      "Number of strings containing ! by HPL: 0\n",
      "Number of strings containing ! by MWS: 0\n"
     ]
    }
   ],
   "source": [
    "for author in authors:\n",
    "    print(\"Number of strings containing ! by {}: {}\".format(author, sum(['\\!' in t for t in df[df['author']==author].text])))"
   ]
  },
  {
   "cell_type": "code",
   "execution_count": 173,
   "metadata": {
    "collapsed": false
   },
   "outputs": [
    {
     "name": "stdout",
     "output_type": "stream",
     "text": [
      "Number of strings containing L' or l' by EAP: 83\n",
      "Number of strings containing L' or l' by HPL: 22\n",
      "Number of strings containing L' or l' by MWS: 19\n"
     ]
    }
   ],
   "source": [
    "for author in authors:\n",
    "    print(\"Number of strings containing L' or l' by {}: {}\".format(author, sum(['l\\''  in t.lower() for t in df[df['author']==author].text])))"
   ]
  },
  {
   "cell_type": "code",
   "execution_count": 172,
   "metadata": {
    "collapsed": false
   },
   "outputs": [
    {
     "name": "stdout",
     "output_type": "stream",
     "text": [
      "Number of strings containing a semicolon by EAP: 1084\n",
      "Number of strings containing a semicolon by HPL: 1084\n",
      "Number of strings containing a semicolon by MWS: 1969\n"
     ]
    }
   ],
   "source": [
    "for author in authors:\n",
    "    print(\"Number of strings containing a semicolon by {}: {}\".format(author, sum([';'  in t.lower() for t in df[df['author']==author].text])))"
   ]
  },
  {
   "cell_type": "code",
   "execution_count": 82,
   "metadata": {
    "collapsed": false
   },
   "outputs": [
    {
     "name": "stdout",
     "output_type": "stream",
     "text": [
      "Number of strings containing quotation marks by EAP: 1326\n",
      "Number of strings containing quotation marks by HPL: 313\n",
      "Number of strings containing quotation marks by MWS: 788\n"
     ]
    }
   ],
   "source": [
    "for author in authors:\n",
    "    print(\"Number of strings containing quotation marks by {}: {}\".format(author, sum(['\\\"' in t for t in df[df['author']==author].text])))"
   ]
  },
  {
   "cell_type": "code",
   "execution_count": 83,
   "metadata": {
    "collapsed": false
   },
   "outputs": [
    {
     "name": "stdout",
     "output_type": "stream",
     "text": [
      "Number of strings containing 'ae' by EAP: 67\n",
      "Number of strings containing 'ae' by HPL: 118\n",
      "Number of strings containing 'ae' by MWS: 33\n"
     ]
    }
   ],
   "source": [
    "for author in authors:\n",
    "    print(\"Number of strings containing 'ae' by {}: {}\".format(author, sum(['ae' in t for t in df[df['author']==author].text])))"
   ]
  },
  {
   "cell_type": "code",
   "execution_count": 167,
   "metadata": {
    "collapsed": false
   },
   "outputs": [
    {
     "name": "stdout",
     "output_type": "stream",
     "text": [
      "Number of strings containing 'æ' by EAP: 32\n",
      "Number of strings containing 'æ' by HPL: 9\n",
      "Number of strings containing 'æ' by MWS: 0\n"
     ]
    }
   ],
   "source": [
    "for author in authors:\n",
    "    print(\"Number of strings containing 'æ' by {}: {}\".format(author, sum(['æ' in word for word in [t for t in df[df['author']==author].text]])))"
   ]
  },
  {
   "cell_type": "code",
   "execution_count": 168,
   "metadata": {
    "collapsed": false
   },
   "outputs": [
    {
     "data": {
      "text/plain": [
       "'How lovely is spring As we looked from Windsor Terrace on the sixteen fertile counties spread beneath, speckled by happy cottages and wealthier towns, all looked as in former years, heart cheering and fair.'"
      ]
     },
     "execution_count": 168,
     "metadata": {},
     "output_type": "execute_result"
    }
   ],
   "source": [
    "df[df['author']==author].text[0]"
   ]
  },
  {
   "cell_type": "code",
   "execution_count": 84,
   "metadata": {
    "collapsed": true
   },
   "outputs": [],
   "source": [
    "from nltk import tokenize"
   ]
  },
  {
   "cell_type": "code",
   "execution_count": 85,
   "metadata": {
    "collapsed": false
   },
   "outputs": [
    {
     "data": {
      "text/plain": [
       "['This', 'process', ',', 'however', ',', 'afforded', 'me', 'no', 'means', 'of']"
      ]
     },
     "execution_count": 85,
     "metadata": {},
     "output_type": "execute_result"
    }
   ],
   "source": [
    "tokenize.word_tokenize(df.text[0])[:10]"
   ]
  },
  {
   "cell_type": "code",
   "execution_count": 86,
   "metadata": {
    "collapsed": false
   },
   "outputs": [
    {
     "data": {
      "text/plain": [
       "27575"
      ]
     },
     "execution_count": 86,
     "metadata": {},
     "output_type": "execute_result"
    }
   ],
   "source": [
    "n = 0\n",
    "len(lexicon)"
   ]
  },
  {
   "cell_type": "code",
   "execution_count": 87,
   "metadata": {
    "collapsed": false
   },
   "outputs": [
    {
     "data": {
      "text/plain": [
       "367.6666666666667"
      ]
     },
     "execution_count": 87,
     "metadata": {},
     "output_type": "execute_result"
    }
   ],
   "source": [
    "len(lexicon)/75"
   ]
  },
  {
   "cell_type": "code",
   "execution_count": 88,
   "metadata": {
    "collapsed": true
   },
   "outputs": [],
   "source": [
    "from collections import Counter"
   ]
  },
  {
   "cell_type": "code",
   "execution_count": 162,
   "metadata": {
    "collapsed": false
   },
   "outputs": [
    {
     "data": {
      "text/plain": [
       "[('``', 2762),\n",
       " ('the', 2225),\n",
       " (\"''\", 2207),\n",
       " ('one', 1623),\n",
       " ('upon', 1411),\n",
       " (\"'s\", 1355),\n",
       " ('could', 1330),\n",
       " ('would', 1258),\n",
       " ('it', 947),\n",
       " ('he', 900)]"
      ]
     },
     "execution_count": 162,
     "metadata": {},
     "output_type": "execute_result"
    }
   ],
   "source": [
    "wordcounts = Counter()\n",
    "for sentence in token_list:\n",
    "    wordcounts.update([t.lower() for t in sentence])\n",
    "wordcounts.most_common(10)"
   ]
  },
  {
   "cell_type": "code",
   "execution_count": 90,
   "metadata": {
    "collapsed": false
   },
   "outputs": [
    {
     "data": {
      "text/plain": [
       "7227"
      ]
     },
     "execution_count": 90,
     "metadata": {},
     "output_type": "execute_result"
    }
   ],
   "source": [
    "wordlist = []\n",
    "for word, count in wordcounts.items():\n",
    "    if 5 < count < 200:\n",
    "        wordlist.append(word)\n",
    "len(wordlist)"
   ]
  },
  {
   "cell_type": "code",
   "execution_count": 91,
   "metadata": {
    "collapsed": false
   },
   "outputs": [
    {
     "name": "stdout",
     "output_type": "stream",
     "text": [
      "blanc: 11\n",
      "breadth: 14\n",
      "beginning: 45\n",
      "peer: 12\n",
      "grin: 9\n",
      "artists: 8\n",
      "wondrous: 15\n",
      "imitation: 13\n",
      "merest: 6\n",
      "thousands: 16\n"
     ]
    }
   ],
   "source": [
    "for word in wordlist[90:100]:\n",
    "    print(\"{}: {}\".format(word, wordcounts[word]))"
   ]
  },
  {
   "cell_type": "code",
   "execution_count": 92,
   "metadata": {
    "collapsed": false
   },
   "outputs": [
    {
     "name": "stdout",
     "output_type": "stream",
     "text": [
      "\"The present peculiar condition of affairs at court, and especially of those intrigues in which D is known to be involved, would render the instant availability of the document its susceptibility of being produced at a moment's notice a point of nearly equal importance with its possession.\"\n",
      "\"And what about the window panes?\" \"They were all gone.\n",
      "\"But could not the cavity be detected by sounding?\"\n",
      "\"Everybody got aout o' the idee o' dyin' excep' in canoe wars with the other islanders, or as sacrifices to the sea gods daown below, or from snake bite or plague or sharp gallopin' ailments or somethin' afore they cud take to the water but simply looked forrad to a kind o' change that wa'n't a bit horrible arter a while.\n",
      "\"That is absolutely needless,\" replied G .\n",
      "\"Keep up the largest branch the one on this side,\" said Legrand.\n",
      "\"But, my dear fellow, you are joking then,\" said I, \"this is a very passable skull indeed, I may say that it is a very excellent skull, according to the vulgar notions about such specimens of physiology and your scarabæus must be the queerest scarabæus in the world if it resembles it.\n",
      "\"I believe, sir, you have forgotten to pay for your brandy and water.\"\n",
      "\"But that Kidd's accumulations were immense, is well known.\n",
      "\"Pierre Moreau, tobacconist, deposes that he has been in the habit of selling small quantities of tobacco and snuff to Madame L'Espanaye for nearly four years.\n",
      "\"Not so,\" said I, \"though I confess that my thoughts are not occupied as pleasantly as yours are.\n"
     ]
    }
   ],
   "source": [
    "bleh = 0\n",
    "for text in df.text:\n",
    "    if not text[0].isupper():\n",
    "        print(text)\n",
    "        bleh += 1\n",
    "    if bleh > 10:\n",
    "        break"
   ]
  },
  {
   "cell_type": "code",
   "execution_count": 93,
   "metadata": {
    "collapsed": false
   },
   "outputs": [
    {
     "name": "stdout",
     "output_type": "stream",
     "text": [
      "Counter({'EAP': 793, 'MWS': 381, 'HPL': 167})\n"
     ]
    }
   ],
   "source": [
    "this = Counter()\n",
    "for n, text in enumerate(df.text):\n",
    "    if not text[0].isupper():\n",
    "        this[df.iloc[n].author] += 1\n",
    "print(this)"
   ]
  },
  {
   "cell_type": "code",
   "execution_count": 94,
   "metadata": {
    "collapsed": true
   },
   "outputs": [],
   "source": [
    "def load_word_frequencies(filename):\n",
    "    data = []\n",
    "    with open(filename, 'r') as f:\n",
    "        for i, line in enumerate(f):\n",
    "            if i == 0:\n",
    "                continue\n",
    "            w, e, h, m = line.replace(\"\\\"\", \"\").replace(\"[\",\"\").replace(\"]\",\"\").replace(\" \",\"\").split(\",\")[1:]\n",
    "            data.append([w, float(e), float(h), float(m)])\n",
    "    return data\n",
    "            "
   ]
  },
  {
   "cell_type": "code",
   "execution_count": 95,
   "metadata": {
    "collapsed": false
   },
   "outputs": [
    {
     "ename": "NameError",
     "evalue": "name 'line' is not defined",
     "output_type": "error",
     "traceback": [
      "\u001b[1;31m---------------------------------------------------------------------------\u001b[0m",
      "\u001b[1;31mNameError\u001b[0m                                 Traceback (most recent call last)",
      "\u001b[1;32m<ipython-input-95-27029df0ec68>\u001b[0m in \u001b[0;36m<module>\u001b[1;34m()\u001b[0m\n\u001b[1;32m----> 1\u001b[1;33m \u001b[0mline\u001b[0m\u001b[1;33m.\u001b[0m\u001b[0mreplace\u001b[0m\u001b[1;33m(\u001b[0m\u001b[1;34m\"\\\"\"\u001b[0m\u001b[1;33m,\u001b[0m \u001b[1;34m\"\"\u001b[0m\u001b[1;33m)\u001b[0m\u001b[1;33m.\u001b[0m\u001b[0mreplace\u001b[0m\u001b[1;33m(\u001b[0m\u001b[1;34m\"[\"\u001b[0m\u001b[1;33m,\u001b[0m\u001b[1;34m\"\"\u001b[0m\u001b[1;33m)\u001b[0m\u001b[1;33m.\u001b[0m\u001b[0mreplace\u001b[0m\u001b[1;33m(\u001b[0m\u001b[1;34m\"]\"\u001b[0m\u001b[1;33m,\u001b[0m\u001b[1;34m\"\"\u001b[0m\u001b[1;33m)\u001b[0m\u001b[1;33m.\u001b[0m\u001b[0mreplace\u001b[0m\u001b[1;33m(\u001b[0m\u001b[1;34m\" \"\u001b[0m\u001b[1;33m,\u001b[0m\u001b[1;34m\"\"\u001b[0m\u001b[1;33m)\u001b[0m\u001b[1;33m.\u001b[0m\u001b[0msplit\u001b[0m\u001b[1;33m(\u001b[0m\u001b[1;34m\",\"\u001b[0m\u001b[1;33m)\u001b[0m\u001b[1;33m[\u001b[0m\u001b[1;36m1\u001b[0m\u001b[1;33m:\u001b[0m\u001b[1;33m]\u001b[0m\u001b[1;33m\u001b[0m\u001b[0m\n\u001b[0m",
      "\u001b[1;31mNameError\u001b[0m: name 'line' is not defined"
     ]
    }
   ],
   "source": [
    "line.replace(\"\\\"\", \"\").replace(\"[\",\"\").replace(\"]\",\"\").replace(\" \",\"\").split(\",\")[1:]"
   ]
  },
  {
   "cell_type": "code",
   "execution_count": 96,
   "metadata": {
    "collapsed": true
   },
   "outputs": [],
   "source": [
    "line = \"3,afforded,\\\"[4.5339866284683176e-05, 1.017405086465508e-05, 4.7641757670422327e-05]\\\"\""
   ]
  },
  {
   "cell_type": "code",
   "execution_count": 97,
   "metadata": {
    "collapsed": true
   },
   "outputs": [],
   "source": [
    "columns = ['word', 'EAP_frequency', 'HPL_frequency', 'MWS_frequency']\n",
    "data = load_word_frequencies('lexicon_frequencies.csv')\n",
    "df_word_frequency = pd.DataFrame(data, columns=columns)"
   ]
  },
  {
   "cell_type": "code",
   "execution_count": 98,
   "metadata": {
    "collapsed": false
   },
   "outputs": [
    {
     "data": {
      "text/html": [
       "<div>\n",
       "<style scoped>\n",
       "    .dataframe tbody tr th:only-of-type {\n",
       "        vertical-align: middle;\n",
       "    }\n",
       "\n",
       "    .dataframe tbody tr th {\n",
       "        vertical-align: top;\n",
       "    }\n",
       "\n",
       "    .dataframe thead th {\n",
       "        text-align: right;\n",
       "    }\n",
       "</style>\n",
       "<table border=\"1\" class=\"dataframe\">\n",
       "  <thead>\n",
       "    <tr style=\"text-align: right;\">\n",
       "      <th></th>\n",
       "      <th>word</th>\n",
       "      <th>EAP_frequency</th>\n",
       "      <th>HPL_frequency</th>\n",
       "      <th>MWS_frequency</th>\n",
       "    </tr>\n",
       "  </thead>\n",
       "  <tbody>\n",
       "    <tr>\n",
       "      <th>0</th>\n",
       "      <td>This</td>\n",
       "      <td>0.000640</td>\n",
       "      <td>0.000519</td>\n",
       "      <td>0.000715</td>\n",
       "    </tr>\n",
       "    <tr>\n",
       "      <th>1</th>\n",
       "      <td>process</td>\n",
       "      <td>0.000024</td>\n",
       "      <td>0.000026</td>\n",
       "      <td>0.000025</td>\n",
       "    </tr>\n",
       "    <tr>\n",
       "      <th>2</th>\n",
       "      <td>however</td>\n",
       "      <td>0.000477</td>\n",
       "      <td>0.000213</td>\n",
       "      <td>0.000470</td>\n",
       "    </tr>\n",
       "    <tr>\n",
       "      <th>3</th>\n",
       "      <td>afforded</td>\n",
       "      <td>0.000045</td>\n",
       "      <td>0.000010</td>\n",
       "      <td>0.000048</td>\n",
       "    </tr>\n",
       "    <tr>\n",
       "      <th>4</th>\n",
       "      <td>means</td>\n",
       "      <td>0.000270</td>\n",
       "      <td>0.000151</td>\n",
       "      <td>0.000275</td>\n",
       "    </tr>\n",
       "    <tr>\n",
       "      <th>5</th>\n",
       "      <td>ascertaining</td>\n",
       "      <td>0.000005</td>\n",
       "      <td>0.000001</td>\n",
       "      <td>0.000005</td>\n",
       "    </tr>\n",
       "    <tr>\n",
       "      <th>6</th>\n",
       "      <td>dimensions</td>\n",
       "      <td>0.000011</td>\n",
       "      <td>0.000004</td>\n",
       "      <td>0.000015</td>\n",
       "    </tr>\n",
       "    <tr>\n",
       "      <th>7</th>\n",
       "      <td>dungeon</td>\n",
       "      <td>0.000011</td>\n",
       "      <td>0.000004</td>\n",
       "      <td>0.000012</td>\n",
       "    </tr>\n",
       "    <tr>\n",
       "      <th>8</th>\n",
       "      <td>might</td>\n",
       "      <td>0.000818</td>\n",
       "      <td>0.000706</td>\n",
       "      <td>0.000810</td>\n",
       "    </tr>\n",
       "    <tr>\n",
       "      <th>9</th>\n",
       "      <td>make</td>\n",
       "      <td>0.000600</td>\n",
       "      <td>0.000663</td>\n",
       "      <td>0.000592</td>\n",
       "    </tr>\n",
       "    <tr>\n",
       "      <th>10</th>\n",
       "      <td>circuit</td>\n",
       "      <td>0.000010</td>\n",
       "      <td>0.000006</td>\n",
       "      <td>0.000009</td>\n",
       "    </tr>\n",
       "    <tr>\n",
       "      <th>11</th>\n",
       "      <td>return</td>\n",
       "      <td>0.000244</td>\n",
       "      <td>0.000153</td>\n",
       "      <td>0.000241</td>\n",
       "    </tr>\n",
       "    <tr>\n",
       "      <th>12</th>\n",
       "      <td>point</td>\n",
       "      <td>0.000182</td>\n",
       "      <td>0.000196</td>\n",
       "      <td>0.000179</td>\n",
       "    </tr>\n",
       "    <tr>\n",
       "      <th>13</th>\n",
       "      <td>whence</td>\n",
       "      <td>0.000053</td>\n",
       "      <td>0.000020</td>\n",
       "      <td>0.000069</td>\n",
       "    </tr>\n",
       "    <tr>\n",
       "      <th>14</th>\n",
       "      <td>set</td>\n",
       "      <td>0.000288</td>\n",
       "      <td>0.000303</td>\n",
       "      <td>0.000296</td>\n",
       "    </tr>\n",
       "    <tr>\n",
       "      <th>15</th>\n",
       "      <td>without</td>\n",
       "      <td>0.000770</td>\n",
       "      <td>0.000578</td>\n",
       "      <td>0.000801</td>\n",
       "    </tr>\n",
       "    <tr>\n",
       "      <th>16</th>\n",
       "      <td>aware</td>\n",
       "      <td>0.000069</td>\n",
       "      <td>0.000065</td>\n",
       "      <td>0.000055</td>\n",
       "    </tr>\n",
       "    <tr>\n",
       "      <th>17</th>\n",
       "      <td>fact</td>\n",
       "      <td>0.000147</td>\n",
       "      <td>0.000244</td>\n",
       "      <td>0.000116</td>\n",
       "    </tr>\n",
       "    <tr>\n",
       "      <th>18</th>\n",
       "      <td>perfectly</td>\n",
       "      <td>0.000078</td>\n",
       "      <td>0.000074</td>\n",
       "      <td>0.000070</td>\n",
       "    </tr>\n",
       "    <tr>\n",
       "      <th>19</th>\n",
       "      <td>uniform</td>\n",
       "      <td>0.000017</td>\n",
       "      <td>0.000024</td>\n",
       "      <td>0.000017</td>\n",
       "    </tr>\n",
       "    <tr>\n",
       "      <th>20</th>\n",
       "      <td>seemed</td>\n",
       "      <td>0.000352</td>\n",
       "      <td>0.000546</td>\n",
       "      <td>0.000332</td>\n",
       "    </tr>\n",
       "    <tr>\n",
       "      <th>21</th>\n",
       "      <td>wall</td>\n",
       "      <td>0.000085</td>\n",
       "      <td>0.000118</td>\n",
       "      <td>0.000086</td>\n",
       "    </tr>\n",
       "  </tbody>\n",
       "</table>\n",
       "</div>"
      ],
      "text/plain": [
       "            word  EAP_frequency  HPL_frequency  MWS_frequency\n",
       "0           This       0.000640       0.000519       0.000715\n",
       "1        process       0.000024       0.000026       0.000025\n",
       "2        however       0.000477       0.000213       0.000470\n",
       "3       afforded       0.000045       0.000010       0.000048\n",
       "4          means       0.000270       0.000151       0.000275\n",
       "5   ascertaining       0.000005       0.000001       0.000005\n",
       "6     dimensions       0.000011       0.000004       0.000015\n",
       "7        dungeon       0.000011       0.000004       0.000012\n",
       "8          might       0.000818       0.000706       0.000810\n",
       "9           make       0.000600       0.000663       0.000592\n",
       "10       circuit       0.000010       0.000006       0.000009\n",
       "11        return       0.000244       0.000153       0.000241\n",
       "12         point       0.000182       0.000196       0.000179\n",
       "13        whence       0.000053       0.000020       0.000069\n",
       "14           set       0.000288       0.000303       0.000296\n",
       "15       without       0.000770       0.000578       0.000801\n",
       "16         aware       0.000069       0.000065       0.000055\n",
       "17          fact       0.000147       0.000244       0.000116\n",
       "18     perfectly       0.000078       0.000074       0.000070\n",
       "19       uniform       0.000017       0.000024       0.000017\n",
       "20        seemed       0.000352       0.000546       0.000332\n",
       "21          wall       0.000085       0.000118       0.000086"
      ]
     },
     "execution_count": 98,
     "metadata": {},
     "output_type": "execute_result"
    }
   ],
   "source": [
    "df_word_frequency"
   ]
  },
  {
   "cell_type": "code",
   "execution_count": 99,
   "metadata": {
    "collapsed": false
   },
   "outputs": [
    {
     "data": {
      "text/plain": [
       "(22, 3)"
      ]
     },
     "execution_count": 99,
     "metadata": {},
     "output_type": "execute_result"
    }
   ],
   "source": [
    "this = pd.read_csv('lexicon_frequencies.csv')\n",
    "this.shape"
   ]
  },
  {
   "cell_type": "code",
   "execution_count": 100,
   "metadata": {
    "collapsed": true
   },
   "outputs": [],
   "source": [
    "random = df.iloc[4898]"
   ]
  },
  {
   "cell_type": "code",
   "execution_count": 101,
   "metadata": {
    "collapsed": true
   },
   "outputs": [],
   "source": [
    "def get_sentence_probability(sentence):\n",
    "    a, b, c = 0, 0, 0\n",
    "    for word in tokenize.word_tokenize(sentence):\n",
    "        if word.lower() in list(df_word_frequency.word):\n",
    "            log_probs = [math.log(v) for v in df_word_frequency.loc[word.lower()][1:]]\n",
    "            a += log_probs[0]\n",
    "            b += log_probs[1]\n",
    "            c += log_probs[2] \n",
    "    return (a, b, c)"
   ]
  },
  {
   "cell_type": "code",
   "execution_count": 102,
   "metadata": {
    "collapsed": true
   },
   "outputs": [],
   "source": [
    "df_word_frequency.index = df_word_frequency.word"
   ]
  },
  {
   "cell_type": "code",
   "execution_count": 103,
   "metadata": {
    "collapsed": false
   },
   "outputs": [],
   "source": [
    "probs = [v for v in df_word_frequency.loc['process']][1:]"
   ]
  },
  {
   "cell_type": "code",
   "execution_count": 104,
   "metadata": {
    "collapsed": false
   },
   "outputs": [
    {
     "data": {
      "text/plain": [
       "[0.317976641313019, 0.34895560935665504, 0.33306774933032596]"
      ]
     },
     "execution_count": 104,
     "metadata": {},
     "output_type": "execute_result"
    }
   ],
   "source": [
    "[probs[i]/sum(probs) for i in range(3)]"
   ]
  },
  {
   "cell_type": "code",
   "execution_count": 105,
   "metadata": {
    "collapsed": false
   },
   "outputs": [
    {
     "name": "stdout",
     "output_type": "stream",
     "text": [
      "7703 19579\n"
     ]
    }
   ],
   "source": [
    "counter = 0\n",
    "for i in range(df.shape[0]):\n",
    "    line = df.iloc[i]\n",
    "    p = get_sentence_probability(line.text)\n",
    "    if (np.argmax(p) == 0 and line.author == 'EAP') or (np.argmax(p) == 1 and line.author == 'HPL') or (np.argmax(p) == 2 and line.author == 'MWS'):\n",
    "        counter += 1\n",
    "print(counter, df.shape[0])\n"
   ]
  },
  {
   "cell_type": "code",
   "execution_count": 106,
   "metadata": {
    "collapsed": true
   },
   "outputs": [],
   "source": [
    "import math "
   ]
  },
  {
   "cell_type": "code",
   "execution_count": 107,
   "metadata": {
    "collapsed": true
   },
   "outputs": [],
   "source": [
    "def predict(sentence):\n",
    "    probs = get_sentence_probability(sentence)\n",
    "    print(probs, np.argmin(probs), authors[np.argmin(probs)])\n",
    "    return authors[np.argmin(probs)]"
   ]
  },
  {
   "cell_type": "code",
   "execution_count": 108,
   "metadata": {
    "collapsed": true
   },
   "outputs": [],
   "source": [
    "def predict_with_probs(sentence):\n",
    "    probs = get_sentence_probability(sentence)\n",
    "    if sum(probs) == 0:\n",
    "        return None\n",
    "    probs = [probs[i]/sum(probs) for i in range(3)]\n",
    "    return (authors[np.argmin(probs)], probs)"
   ]
  },
  {
   "cell_type": "code",
   "execution_count": 109,
   "metadata": {
    "collapsed": true
   },
   "outputs": [],
   "source": [
    "def s(i):\n",
    "    r = df.iloc[i]\n",
    "    print(predict_with_probs(r.text), r.author)"
   ]
  },
  {
   "cell_type": "code",
   "execution_count": null,
   "metadata": {
    "collapsed": true
   },
   "outputs": [],
   "source": []
  },
  {
   "cell_type": "code",
   "execution_count": null,
   "metadata": {
    "collapsed": true
   },
   "outputs": [],
   "source": []
  },
  {
   "cell_type": "code",
   "execution_count": null,
   "metadata": {
    "collapsed": true
   },
   "outputs": [],
   "source": []
  },
  {
   "cell_type": "code",
   "execution_count": null,
   "metadata": {
    "collapsed": true
   },
   "outputs": [],
   "source": []
  }
 ],
 "metadata": {
  "anaconda-cloud": {},
  "kernelspec": {
   "display_name": "Python (spacy)",
   "language": "python",
   "name": "spacy"
  },
  "language_info": {
   "codemirror_mode": {
    "name": "ipython",
    "version": 3
   },
   "file_extension": ".py",
   "mimetype": "text/x-python",
   "name": "python",
   "nbconvert_exporter": "python",
   "pygments_lexer": "ipython3",
   "version": "3.5.6"
  },
  "varInspector": {
   "cols": {
    "lenName": 16,
    "lenType": 16,
    "lenVar": 40
   },
   "kernels_config": {
    "python": {
     "delete_cmd_postfix": "",
     "delete_cmd_prefix": "del ",
     "library": "var_list.py",
     "varRefreshCmd": "print(var_dic_list())"
    },
    "r": {
     "delete_cmd_postfix": ") ",
     "delete_cmd_prefix": "rm(",
     "library": "var_list.r",
     "varRefreshCmd": "cat(var_dic_list()) "
    }
   },
   "types_to_exclude": [
    "module",
    "function",
    "builtin_function_or_method",
    "instance",
    "_Feature"
   ],
   "window_display": false
  }
 },
 "nbformat": 4,
 "nbformat_minor": 2
}
